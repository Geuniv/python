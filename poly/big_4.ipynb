{
 "cells": [
  {
   "cell_type": "markdown",
   "id": "8ab1f297",
   "metadata": {},
   "source": [
    "# 4장. 프로그램 입력과 출력"
   ]
  },
  {
   "cell_type": "markdown",
   "id": "d475d3e5f78f4d87",
   "metadata": {
    "collapsed": false
   },
   "source": [
    "### 1. 함수 ###\n",
    "\n",
    "※ 함수를 사용하는 이유는 무엇일까 ?\n",
    "- 프로그래밍을 하다 보면 동일한 내용을 반복해서 작성할 때 함수를 사용함\n",
    "- 반복되는 부분이 있을 경우 '반복적으로 사용되는 가치 있는 부분' 을 묶어서 '어떤 값을 주었을 때 어떤 결과값을 돌려준다' 라는 함수로 작성함\n",
    "- 함수를 사용하는 다른 이유는 자신이 만든 프로그램을 함수화 하면 프로그램의 흐름을 일목요연하게 볼 수 있기 때문임"
   ]
  },
  {
   "cell_type": "code",
   "execution_count": 7,
   "id": "6892a0f54c33d5fd",
   "metadata": {
    "ExecuteTime": {
     "end_time": "2023-09-19T01:38:58.760419100Z",
     "start_time": "2023-09-19T01:38:58.701061700Z"
    },
    "collapsed": false
   },
   "outputs": [
    {
     "name": "stdout",
     "output_type": "stream",
     "text": [
      "7\n"
     ]
    }
   ],
   "source": [
    "a = 3\n",
    "b = 4\n",
    "c = sum(a, b)\n",
    "\n",
    "print(c)"
   ]
  },
  {
   "cell_type": "code",
   "execution_count": 8,
   "id": "c124e432637a8007",
   "metadata": {
    "ExecuteTime": {
     "end_time": "2023-09-19T01:39:38.130308600Z",
     "start_time": "2023-09-19T01:39:38.097910Z"
    },
    "collapsed": false
   },
   "outputs": [
    {
     "name": "stdout",
     "output_type": "stream",
     "text": [
      "7\n"
     ]
    }
   ],
   "source": [
    "def sum(a, b) :\n",
    "    result = a + b\n",
    "    return result\n",
    "\n",
    "a = sum(3, 4)\n",
    "print(a)"
   ]
  },
  {
   "cell_type": "code",
   "execution_count": 9,
   "id": "6b884b90d6687765",
   "metadata": {
    "ExecuteTime": {
     "end_time": "2023-09-19T01:40:05.286500200Z",
     "start_time": "2023-09-19T01:40:05.237685900Z"
    },
    "collapsed": false
   },
   "outputs": [
    {
     "name": "stdout",
     "output_type": "stream",
     "text": [
      "Hi\n"
     ]
    }
   ],
   "source": [
    "def say() :\n",
    "    return 'Hi'\n",
    "\n",
    "a = say()\n",
    "\n",
    "print(a)"
   ]
  },
  {
   "cell_type": "code",
   "execution_count": 15,
   "id": "ee5fb599c2c7f05e",
   "metadata": {
    "ExecuteTime": {
     "end_time": "2023-09-19T01:53:44.585078100Z",
     "start_time": "2023-09-19T01:53:44.574084Z"
    },
    "collapsed": false
   },
   "outputs": [
    {
     "name": "stdout",
     "output_type": "stream",
     "text": [
      "3, 4의 합은 7입니다.\n",
      " \n",
      "3, 4의 합은 7입니다.\n",
      "None\n"
     ]
    }
   ],
   "source": [
    "def sum(a, b) :\n",
    "    print(\"%d, %d의 합은 %d입니다.\" % (a, b, a+b))\n",
    "    \n",
    "sum(3, 4)\n",
    "print(\" \")\n",
    "\n",
    "a = sum(3, 4)\n",
    "print(a)\n",
    "None"
   ]
  },
  {
   "cell_type": "code",
   "execution_count": 2,
   "id": "c88d889706a14f58",
   "metadata": {
    "collapsed": false
   },
   "outputs": [
    {
     "name": "stdout",
     "output_type": "stream",
     "text": [
      "Hi\n"
     ]
    }
   ],
   "source": [
    "def say():\n",
    "    print(\"Hi\")\n",
    "\n",
    "say()"
   ]
  },
  {
   "cell_type": "code",
   "execution_count": null,
   "id": "94443a09",
   "metadata": {},
   "outputs": [],
   "source": []
  }
 ],
 "metadata": {
  "kernelspec": {
   "display_name": "Python 3",
   "language": "python",
   "name": "python3"
  },
  "language_info": {
   "codemirror_mode": {
    "name": "ipython",
    "version": 3
   },
   "file_extension": ".py",
   "mimetype": "text/x-python",
   "name": "python",
   "nbconvert_exporter": "python",
   "pygments_lexer": "ipython3",
   "version": "3.9.16"
  }
 },
 "nbformat": 4,
 "nbformat_minor": 5
}
