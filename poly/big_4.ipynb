{
 "cells": [
  {
   "cell_type": "markdown",
   "source": [
    "# 1. 함수 #"
   ],
   "metadata": {
    "collapsed": false
   },
   "id": "d475d3e5f78f4d87"
  },
  {
   "cell_type": "code",
   "execution_count": 7,
   "outputs": [
    {
     "name": "stdout",
     "output_type": "stream",
     "text": [
      "7\n"
     ]
    }
   ],
   "source": [
    "a = 3\n",
    "b = 4\n",
    "c = sum(a, b)\n",
    "\n",
    "print(c)"
   ],
   "metadata": {
    "collapsed": false,
    "ExecuteTime": {
     "end_time": "2023-09-19T01:38:58.760419100Z",
     "start_time": "2023-09-19T01:38:58.701061700Z"
    }
   },
   "id": "6892a0f54c33d5fd"
  },
  {
   "cell_type": "code",
   "execution_count": 8,
   "outputs": [
    {
     "name": "stdout",
     "output_type": "stream",
     "text": [
      "7\n"
     ]
    }
   ],
   "source": [
    "def sum(a, b) :\n",
    "    result = a + b\n",
    "    return result\n",
    "\n",
    "a = sum(3, 4)\n",
    "print(a)"
   ],
   "metadata": {
    "collapsed": false,
    "ExecuteTime": {
     "end_time": "2023-09-19T01:39:38.130308600Z",
     "start_time": "2023-09-19T01:39:38.097910Z"
    }
   },
   "id": "c124e432637a8007"
  },
  {
   "cell_type": "code",
   "execution_count": 9,
   "outputs": [
    {
     "name": "stdout",
     "output_type": "stream",
     "text": [
      "Hi\n"
     ]
    }
   ],
   "source": [
    "def say() :\n",
    "    return 'Hi'\n",
    "\n",
    "a = say()\n",
    "\n",
    "print(a)"
   ],
   "metadata": {
    "collapsed": false,
    "ExecuteTime": {
     "end_time": "2023-09-19T01:40:05.286500200Z",
     "start_time": "2023-09-19T01:40:05.237685900Z"
    }
   },
   "id": "6b884b90d6687765"
  },
  {
   "cell_type": "code",
   "execution_count": 15,
   "outputs": [
    {
     "name": "stdout",
     "output_type": "stream",
     "text": [
      "3, 4의 합은 7입니다.\n",
      " \n",
      "3, 4의 합은 7입니다.\n",
      "None\n"
     ]
    }
   ],
   "source": [
    "def sum(a, b) :\n",
    "    print(\"%d, %d의 합은 %d입니다.\" % (a, b, a+b))\n",
    "    \n",
    "sum(3, 4)\n",
    "print(\" \")\n",
    "\n",
    "a = sum(3, 4)\n",
    "print(a)\n",
    "None"
   ],
   "metadata": {
    "collapsed": false,
    "ExecuteTime": {
     "end_time": "2023-09-19T01:53:44.585078100Z",
     "start_time": "2023-09-19T01:53:44.574084Z"
    }
   },
   "id": "ee5fb599c2c7f05e"
  },
  {
   "cell_type": "code",
   "execution_count": null,
   "outputs": [],
   "source": [],
   "metadata": {
    "collapsed": false
   },
   "id": "c88d889706a14f58"
  }
 ],
 "metadata": {
  "kernelspec": {
   "display_name": "Python 3",
   "language": "python",
   "name": "python3"
  },
  "language_info": {
   "codemirror_mode": {
    "name": "ipython",
    "version": 2
   },
   "file_extension": ".py",
   "mimetype": "text/x-python",
   "name": "python",
   "nbconvert_exporter": "python",
   "pygments_lexer": "ipython2",
   "version": "2.7.6"
  }
 },
 "nbformat": 4,
 "nbformat_minor": 5
}
