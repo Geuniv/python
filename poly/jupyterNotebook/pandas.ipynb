<<<<<<< HEAD
{
 "cells": [
  {
   "cell_type": "code",
   "execution_count": 1,
   "id": "initial_id",
   "metadata": {
    "collapsed": true,
    "ExecuteTime": {
     "end_time": "2023-11-14T00:41:34.620144500Z",
     "start_time": "2023-11-14T00:41:33.973515400Z"
    }
   },
   "outputs": [],
   "source": [
    "import pandas as pd\n",
    "import numpy as np"
   ]
  },
  {
   "cell_type": "code",
   "execution_count": 2,
   "outputs": [
    {
     "data": {
      "text/plain": "0    1.0\n1    3.0\n2    5.0\n3    NaN\n4    6.0\n5    8.0\ndtype: float64"
     },
     "execution_count": 2,
     "metadata": {},
     "output_type": "execute_result"
    }
   ],
   "source": [
    "s = pd.Series([1,3,5,np.nan, 6, 8])\n",
    "s"
   ],
   "metadata": {
    "collapsed": false,
    "ExecuteTime": {
     "end_time": "2023-11-14T00:42:04.472615700Z",
     "start_time": "2023-11-14T00:42:04.442634900Z"
    }
   },
   "id": "7e69967a0af7c501"
  },
  {
   "cell_type": "code",
   "execution_count": 3,
   "outputs": [
    {
     "name": "stdout",
     "output_type": "stream",
     "text": [
      "DatetimeIndex(['2013-01-01', '2013-01-02', '2013-01-03', '2013-01-04',\n",
      "               '2013-01-05', '2013-01-06'],\n",
      "              dtype='datetime64[ns]', freq='D')\n"
     ]
    }
   ],
   "source": [
    " dates = pd.date_range('20130101', periods=6)\n",
    "print(dates)"
   ],
   "metadata": {
    "collapsed": false,
    "ExecuteTime": {
     "end_time": "2023-11-14T00:44:26.884795300Z",
     "start_time": "2023-11-14T00:44:26.828829500Z"
    }
   },
   "id": "b9dacb8d50802ef2"
  },
  {
   "cell_type": "code",
   "execution_count": 5,
   "outputs": [
    {
     "data": {
      "text/plain": "                   A         B         C         D\n2013-01-01 -0.525580  0.878058 -0.452615 -1.228146\n2013-01-02  0.623547 -1.396255  0.608100 -0.563222\n2013-01-03  1.105134  0.412881  1.494205 -0.026307\n2013-01-04 -0.281739 -1.790060 -1.661966  0.960971\n2013-01-05 -0.609444  0.109938  1.025279  0.623548\n2013-01-06 -0.958873  0.275549 -0.437317  0.136996",
      "text/html": "<div>\n<style scoped>\n    .dataframe tbody tr th:only-of-type {\n        vertical-align: middle;\n    }\n\n    .dataframe tbody tr th {\n        vertical-align: top;\n    }\n\n    .dataframe thead th {\n        text-align: right;\n    }\n</style>\n<table border=\"1\" class=\"dataframe\">\n  <thead>\n    <tr style=\"text-align: right;\">\n      <th></th>\n      <th>A</th>\n      <th>B</th>\n      <th>C</th>\n      <th>D</th>\n    </tr>\n  </thead>\n  <tbody>\n    <tr>\n      <th>2013-01-01</th>\n      <td>-0.525580</td>\n      <td>0.878058</td>\n      <td>-0.452615</td>\n      <td>-1.228146</td>\n    </tr>\n    <tr>\n      <th>2013-01-02</th>\n      <td>0.623547</td>\n      <td>-1.396255</td>\n      <td>0.608100</td>\n      <td>-0.563222</td>\n    </tr>\n    <tr>\n      <th>2013-01-03</th>\n      <td>1.105134</td>\n      <td>0.412881</td>\n      <td>1.494205</td>\n      <td>-0.026307</td>\n    </tr>\n    <tr>\n      <th>2013-01-04</th>\n      <td>-0.281739</td>\n      <td>-1.790060</td>\n      <td>-1.661966</td>\n      <td>0.960971</td>\n    </tr>\n    <tr>\n      <th>2013-01-05</th>\n      <td>-0.609444</td>\n      <td>0.109938</td>\n      <td>1.025279</td>\n      <td>0.623548</td>\n    </tr>\n    <tr>\n      <th>2013-01-06</th>\n      <td>-0.958873</td>\n      <td>0.275549</td>\n      <td>-0.437317</td>\n      <td>0.136996</td>\n    </tr>\n  </tbody>\n</table>\n</div>"
     },
     "execution_count": 5,
     "metadata": {},
     "output_type": "execute_result"
    }
   ],
   "source": [
    "df = pd.DataFrame(np.random.randn(6,4), index=dates, columns=['A', 'B', 'C', 'D'])\n",
    "df"
   ],
   "metadata": {
    "collapsed": false,
    "ExecuteTime": {
     "end_time": "2023-11-14T00:46:42.061347900Z",
     "start_time": "2023-11-14T00:46:42.031365Z"
    }
   },
   "id": "6916ab2f7c0c345c"
  },
  {
   "cell_type": "code",
   "execution_count": 6,
   "outputs": [
    {
     "data": {
      "text/plain": "                   A         B         C         D\n2013-01-01 -0.525580  0.878058 -0.452615 -1.228146\n2013-01-02  0.623547 -1.396255  0.608100 -0.563222\n2013-01-03  1.105134  0.412881  1.494205 -0.026307",
      "text/html": "<div>\n<style scoped>\n    .dataframe tbody tr th:only-of-type {\n        vertical-align: middle;\n    }\n\n    .dataframe tbody tr th {\n        vertical-align: top;\n    }\n\n    .dataframe thead th {\n        text-align: right;\n    }\n</style>\n<table border=\"1\" class=\"dataframe\">\n  <thead>\n    <tr style=\"text-align: right;\">\n      <th></th>\n      <th>A</th>\n      <th>B</th>\n      <th>C</th>\n      <th>D</th>\n    </tr>\n  </thead>\n  <tbody>\n    <tr>\n      <th>2013-01-01</th>\n      <td>-0.525580</td>\n      <td>0.878058</td>\n      <td>-0.452615</td>\n      <td>-1.228146</td>\n    </tr>\n    <tr>\n      <th>2013-01-02</th>\n      <td>0.623547</td>\n      <td>-1.396255</td>\n      <td>0.608100</td>\n      <td>-0.563222</td>\n    </tr>\n    <tr>\n      <th>2013-01-03</th>\n      <td>1.105134</td>\n      <td>0.412881</td>\n      <td>1.494205</td>\n      <td>-0.026307</td>\n    </tr>\n  </tbody>\n</table>\n</div>"
     },
     "execution_count": 6,
     "metadata": {},
     "output_type": "execute_result"
    }
   ],
   "source": [
    "df.head(3)"
   ],
   "metadata": {
    "collapsed": false,
    "ExecuteTime": {
     "end_time": "2023-11-14T00:48:20.127361200Z",
     "start_time": "2023-11-14T00:48:20.083386Z"
    }
   },
   "id": "ab7db59d65f383cc"
  },
  {
   "cell_type": "code",
   "execution_count": 7,
   "outputs": [
    {
     "data": {
      "text/plain": "DatetimeIndex(['2013-01-01', '2013-01-02', '2013-01-03', '2013-01-04',\n               '2013-01-05', '2013-01-06'],\n              dtype='datetime64[ns]', freq='D')"
     },
     "execution_count": 7,
     "metadata": {},
     "output_type": "execute_result"
    }
   ],
   "source": [
    "df.index"
   ],
   "metadata": {
    "collapsed": false,
    "ExecuteTime": {
     "end_time": "2023-11-14T00:48:26.478137700Z",
     "start_time": "2023-11-14T00:48:26.212253900Z"
    }
   },
   "id": "69d346581d33f082"
  },
  {
   "cell_type": "code",
   "execution_count": 8,
   "outputs": [
    {
     "data": {
      "text/plain": "Index(['A', 'B', 'C', 'D'], dtype='object')"
     },
     "execution_count": 8,
     "metadata": {},
     "output_type": "execute_result"
    }
   ],
   "source": [
    "df.columns"
   ],
   "metadata": {
    "collapsed": false,
    "ExecuteTime": {
     "end_time": "2023-11-14T00:48:34.308454900Z",
     "start_time": "2023-11-14T00:48:34.219505900Z"
    }
   },
   "id": "dbc4436376611b32"
  },
  {
   "cell_type": "code",
   "execution_count": 9,
   "outputs": [
    {
     "data": {
      "text/plain": "array([[-0.52558036,  0.87805777, -0.45261537, -1.22814638],\n       [ 0.6235469 , -1.39625507,  0.60809988, -0.5632222 ],\n       [ 1.10513354,  0.41288076,  1.49420457, -0.02630687],\n       [-0.28173884, -1.79005999, -1.66196566,  0.96097054],\n       [-0.60944372,  0.10993779,  1.02527926,  0.62354789],\n       [-0.95887267,  0.27554933, -0.43731661,  0.13699565]])"
     },
     "execution_count": 9,
     "metadata": {},
     "output_type": "execute_result"
    }
   ],
   "source": [
    "df.values"
   ],
   "metadata": {
    "collapsed": false,
    "ExecuteTime": {
     "end_time": "2023-11-14T00:48:53.473463900Z",
     "start_time": "2023-11-14T00:48:53.442481700Z"
    }
   },
   "id": "1448186725317d9d"
  },
  {
   "cell_type": "code",
   "execution_count": 10,
   "outputs": [
    {
     "name": "stdout",
     "output_type": "stream",
     "text": [
      "<class 'pandas.core.frame.DataFrame'>\n",
      "DatetimeIndex: 6 entries, 2013-01-01 to 2013-01-06\n",
      "Freq: D\n",
      "Data columns (total 4 columns):\n",
      " #   Column  Non-Null Count  Dtype  \n",
      "---  ------  --------------  -----  \n",
      " 0   A       6 non-null      float64\n",
      " 1   B       6 non-null      float64\n",
      " 2   C       6 non-null      float64\n",
      " 3   D       6 non-null      float64\n",
      "dtypes: float64(4)\n",
      "memory usage: 240.0 bytes\n"
     ]
    }
   ],
   "source": [
    "df.info()"
   ],
   "metadata": {
    "collapsed": false,
    "ExecuteTime": {
     "end_time": "2023-11-14T00:51:08.173510500Z",
     "start_time": "2023-11-14T00:51:08.106548500Z"
    }
   },
   "id": "f63ca8eff6b0ef21"
  },
  {
   "cell_type": "code",
   "execution_count": 11,
   "outputs": [
    {
     "data": {
      "text/plain": "              A         B         C         D\ncount  6.000000  6.000000  6.000000  6.000000\nmean  -0.107826 -0.251648  0.095948 -0.016027\nstd    0.798354  1.077344  1.162466  0.794450\nmin   -0.958873 -1.790060 -1.661966 -1.228146\n25%   -0.588478 -1.019707 -0.448791 -0.428993\n50%   -0.403660  0.192744  0.085392  0.055344\n75%    0.397225  0.378548  0.920984  0.501910\nmax    1.105134  0.878058  1.494205  0.960971",
      "text/html": "<div>\n<style scoped>\n    .dataframe tbody tr th:only-of-type {\n        vertical-align: middle;\n    }\n\n    .dataframe tbody tr th {\n        vertical-align: top;\n    }\n\n    .dataframe thead th {\n        text-align: right;\n    }\n</style>\n<table border=\"1\" class=\"dataframe\">\n  <thead>\n    <tr style=\"text-align: right;\">\n      <th></th>\n      <th>A</th>\n      <th>B</th>\n      <th>C</th>\n      <th>D</th>\n    </tr>\n  </thead>\n  <tbody>\n    <tr>\n      <th>count</th>\n      <td>6.000000</td>\n      <td>6.000000</td>\n      <td>6.000000</td>\n      <td>6.000000</td>\n    </tr>\n    <tr>\n      <th>mean</th>\n      <td>-0.107826</td>\n      <td>-0.251648</td>\n      <td>0.095948</td>\n      <td>-0.016027</td>\n    </tr>\n    <tr>\n      <th>std</th>\n      <td>0.798354</td>\n      <td>1.077344</td>\n      <td>1.162466</td>\n      <td>0.794450</td>\n    </tr>\n    <tr>\n      <th>min</th>\n      <td>-0.958873</td>\n      <td>-1.790060</td>\n      <td>-1.661966</td>\n      <td>-1.228146</td>\n    </tr>\n    <tr>\n      <th>25%</th>\n      <td>-0.588478</td>\n      <td>-1.019707</td>\n      <td>-0.448791</td>\n      <td>-0.428993</td>\n    </tr>\n    <tr>\n      <th>50%</th>\n      <td>-0.403660</td>\n      <td>0.192744</td>\n      <td>0.085392</td>\n      <td>0.055344</td>\n    </tr>\n    <tr>\n      <th>75%</th>\n      <td>0.397225</td>\n      <td>0.378548</td>\n      <td>0.920984</td>\n      <td>0.501910</td>\n    </tr>\n    <tr>\n      <th>max</th>\n      <td>1.105134</td>\n      <td>0.878058</td>\n      <td>1.494205</td>\n      <td>0.960971</td>\n    </tr>\n  </tbody>\n</table>\n</div>"
     },
     "execution_count": 11,
     "metadata": {},
     "output_type": "execute_result"
    }
   ],
   "source": [
    "df.describe()"
   ],
   "metadata": {
    "collapsed": false,
    "ExecuteTime": {
     "end_time": "2023-11-14T00:51:18.818362700Z",
     "start_time": "2023-11-14T00:51:18.715421400Z"
    }
   },
   "id": "f9a9d72f71205114"
  },
  {
   "cell_type": "code",
   "execution_count": 12,
   "outputs": [
    {
     "data": {
      "text/plain": "                   A         B         C         D\n2013-01-01 -0.525580  0.878058 -0.452615 -1.228146\n2013-01-03  1.105134  0.412881  1.494205 -0.026307\n2013-01-06 -0.958873  0.275549 -0.437317  0.136996\n2013-01-05 -0.609444  0.109938  1.025279  0.623548\n2013-01-02  0.623547 -1.396255  0.608100 -0.563222\n2013-01-04 -0.281739 -1.790060 -1.661966  0.960971",
      "text/html": "<div>\n<style scoped>\n    .dataframe tbody tr th:only-of-type {\n        vertical-align: middle;\n    }\n\n    .dataframe tbody tr th {\n        vertical-align: top;\n    }\n\n    .dataframe thead th {\n        text-align: right;\n    }\n</style>\n<table border=\"1\" class=\"dataframe\">\n  <thead>\n    <tr style=\"text-align: right;\">\n      <th></th>\n      <th>A</th>\n      <th>B</th>\n      <th>C</th>\n      <th>D</th>\n    </tr>\n  </thead>\n  <tbody>\n    <tr>\n      <th>2013-01-01</th>\n      <td>-0.525580</td>\n      <td>0.878058</td>\n      <td>-0.452615</td>\n      <td>-1.228146</td>\n    </tr>\n    <tr>\n      <th>2013-01-03</th>\n      <td>1.105134</td>\n      <td>0.412881</td>\n      <td>1.494205</td>\n      <td>-0.026307</td>\n    </tr>\n    <tr>\n      <th>2013-01-06</th>\n      <td>-0.958873</td>\n      <td>0.275549</td>\n      <td>-0.437317</td>\n      <td>0.136996</td>\n    </tr>\n    <tr>\n      <th>2013-01-05</th>\n      <td>-0.609444</td>\n      <td>0.109938</td>\n      <td>1.025279</td>\n      <td>0.623548</td>\n    </tr>\n    <tr>\n      <th>2013-01-02</th>\n      <td>0.623547</td>\n      <td>-1.396255</td>\n      <td>0.608100</td>\n      <td>-0.563222</td>\n    </tr>\n    <tr>\n      <th>2013-01-04</th>\n      <td>-0.281739</td>\n      <td>-1.790060</td>\n      <td>-1.661966</td>\n      <td>0.960971</td>\n    </tr>\n  </tbody>\n</table>\n</div>"
     },
     "execution_count": 12,
     "metadata": {},
     "output_type": "execute_result"
    }
   ],
   "source": [
    "df.sort_values(by=\"B\", ascending=False)"
   ],
   "metadata": {
    "collapsed": false,
    "ExecuteTime": {
     "end_time": "2023-11-14T01:04:46.752406500Z",
     "start_time": "2023-11-14T01:04:46.694439600Z"
    }
   },
   "id": "41e9117650c32448"
  },
  {
   "cell_type": "code",
   "execution_count": 14,
   "outputs": [
    {
     "data": {
      "text/plain": "2013-01-01   -0.525580\n2013-01-02    0.623547\n2013-01-03    1.105134\n2013-01-04   -0.281739\n2013-01-05   -0.609444\n2013-01-06   -0.958873\nFreq: D, Name: A, dtype: float64"
     },
     "execution_count": 14,
     "metadata": {},
     "output_type": "execute_result"
    }
   ],
   "source": [
    "df['A']"
   ],
   "metadata": {
    "collapsed": false,
    "ExecuteTime": {
     "end_time": "2023-11-14T01:05:05.696567Z",
     "start_time": "2023-11-14T01:05:05.658595700Z"
    }
   },
   "id": "d34fe23f81298c20"
  },
  {
   "cell_type": "code",
   "execution_count": 19,
   "outputs": [
    {
     "data": {
      "text/plain": "                   A         B         C         D\n2013-01-01 -0.525580  0.878058 -0.452615 -1.228146\n2013-01-02  0.623547 -1.396255  0.608100 -0.563222\n2013-01-03  1.105134  0.412881  1.494205 -0.026307",
      "text/html": "<div>\n<style scoped>\n    .dataframe tbody tr th:only-of-type {\n        vertical-align: middle;\n    }\n\n    .dataframe tbody tr th {\n        vertical-align: top;\n    }\n\n    .dataframe thead th {\n        text-align: right;\n    }\n</style>\n<table border=\"1\" class=\"dataframe\">\n  <thead>\n    <tr style=\"text-align: right;\">\n      <th></th>\n      <th>A</th>\n      <th>B</th>\n      <th>C</th>\n      <th>D</th>\n    </tr>\n  </thead>\n  <tbody>\n    <tr>\n      <th>2013-01-01</th>\n      <td>-0.525580</td>\n      <td>0.878058</td>\n      <td>-0.452615</td>\n      <td>-1.228146</td>\n    </tr>\n    <tr>\n      <th>2013-01-02</th>\n      <td>0.623547</td>\n      <td>-1.396255</td>\n      <td>0.608100</td>\n      <td>-0.563222</td>\n    </tr>\n    <tr>\n      <th>2013-01-03</th>\n      <td>1.105134</td>\n      <td>0.412881</td>\n      <td>1.494205</td>\n      <td>-0.026307</td>\n    </tr>\n  </tbody>\n</table>\n</div>"
     },
     "execution_count": 19,
     "metadata": {},
     "output_type": "execute_result"
    }
   ],
   "source": [
    "df[0:3]\n",
    "# df[:3]"
   ],
   "metadata": {
    "collapsed": false,
    "ExecuteTime": {
     "end_time": "2023-11-14T01:05:56.849328300Z",
     "start_time": "2023-11-14T01:05:56.794360Z"
    }
   },
   "id": "8b023cfc5eb8b052"
  },
  {
   "cell_type": "code",
   "execution_count": 20,
   "outputs": [
    {
     "data": {
      "text/plain": "                   A         B         C         D\n2013-01-02  0.623547 -1.396255  0.608100 -0.563222\n2013-01-03  1.105134  0.412881  1.494205 -0.026307\n2013-01-04 -0.281739 -1.790060 -1.661966  0.960971",
      "text/html": "<div>\n<style scoped>\n    .dataframe tbody tr th:only-of-type {\n        vertical-align: middle;\n    }\n\n    .dataframe tbody tr th {\n        vertical-align: top;\n    }\n\n    .dataframe thead th {\n        text-align: right;\n    }\n</style>\n<table border=\"1\" class=\"dataframe\">\n  <thead>\n    <tr style=\"text-align: right;\">\n      <th></th>\n      <th>A</th>\n      <th>B</th>\n      <th>C</th>\n      <th>D</th>\n    </tr>\n  </thead>\n  <tbody>\n    <tr>\n      <th>2013-01-02</th>\n      <td>0.623547</td>\n      <td>-1.396255</td>\n      <td>0.608100</td>\n      <td>-0.563222</td>\n    </tr>\n    <tr>\n      <th>2013-01-03</th>\n      <td>1.105134</td>\n      <td>0.412881</td>\n      <td>1.494205</td>\n      <td>-0.026307</td>\n    </tr>\n    <tr>\n      <th>2013-01-04</th>\n      <td>-0.281739</td>\n      <td>-1.790060</td>\n      <td>-1.661966</td>\n      <td>0.960971</td>\n    </tr>\n  </tbody>\n</table>\n</div>"
     },
     "execution_count": 20,
     "metadata": {},
     "output_type": "execute_result"
    }
   ],
   "source": [
    "df['20130102' : '20130104']"
   ],
   "metadata": {
    "collapsed": false,
    "ExecuteTime": {
     "end_time": "2023-11-14T01:06:18.584810700Z",
     "start_time": "2023-11-14T01:06:18.517849400Z"
    }
   },
   "id": "72bf2d3399c23ada"
  },
  {
   "cell_type": "code",
   "execution_count": 21,
   "outputs": [
    {
     "data": {
      "text/plain": "A   -0.525580\nB    0.878058\nC   -0.452615\nD   -1.228146\nName: 2013-01-01 00:00:00, dtype: float64"
     },
     "execution_count": 21,
     "metadata": {},
     "output_type": "execute_result"
    }
   ],
   "source": [
    "df.loc[dates[0]]"
   ],
   "metadata": {
    "collapsed": false,
    "ExecuteTime": {
     "end_time": "2023-11-14T01:06:32.252806800Z",
     "start_time": "2023-11-14T01:06:32.197837900Z"
    }
   },
   "id": "384550096881acac"
  },
  {
   "cell_type": "code",
   "execution_count": 23,
   "outputs": [
    {
     "data": {
      "text/plain": "                   A         B\n2013-01-01 -0.525580  0.878058\n2013-01-02  0.623547 -1.396255\n2013-01-03  1.105134  0.412881\n2013-01-04 -0.281739 -1.790060\n2013-01-05 -0.609444  0.109938\n2013-01-06 -0.958873  0.275549",
      "text/html": "<div>\n<style scoped>\n    .dataframe tbody tr th:only-of-type {\n        vertical-align: middle;\n    }\n\n    .dataframe tbody tr th {\n        vertical-align: top;\n    }\n\n    .dataframe thead th {\n        text-align: right;\n    }\n</style>\n<table border=\"1\" class=\"dataframe\">\n  <thead>\n    <tr style=\"text-align: right;\">\n      <th></th>\n      <th>A</th>\n      <th>B</th>\n    </tr>\n  </thead>\n  <tbody>\n    <tr>\n      <th>2013-01-01</th>\n      <td>-0.525580</td>\n      <td>0.878058</td>\n    </tr>\n    <tr>\n      <th>2013-01-02</th>\n      <td>0.623547</td>\n      <td>-1.396255</td>\n    </tr>\n    <tr>\n      <th>2013-01-03</th>\n      <td>1.105134</td>\n      <td>0.412881</td>\n    </tr>\n    <tr>\n      <th>2013-01-04</th>\n      <td>-0.281739</td>\n      <td>-1.790060</td>\n    </tr>\n    <tr>\n      <th>2013-01-05</th>\n      <td>-0.609444</td>\n      <td>0.109938</td>\n    </tr>\n    <tr>\n      <th>2013-01-06</th>\n      <td>-0.958873</td>\n      <td>0.275549</td>\n    </tr>\n  </tbody>\n</table>\n</div>"
     },
     "execution_count": 23,
     "metadata": {},
     "output_type": "execute_result"
    }
   ],
   "source": [
    "df.loc[:, ['A', 'B']]"
   ],
   "metadata": {
    "collapsed": false,
    "ExecuteTime": {
     "end_time": "2023-11-14T01:11:25.867227400Z",
     "start_time": "2023-11-14T01:11:25.847238600Z"
    }
   },
   "id": "c3c70842684c2bab"
  },
  {
   "cell_type": "code",
   "execution_count": 24,
   "outputs": [
    {
     "data": {
      "text/plain": "A    0.623547\nB   -1.396255\nName: 2013-01-02 00:00:00, dtype: float64"
     },
     "execution_count": 24,
     "metadata": {},
     "output_type": "execute_result"
    }
   ],
   "source": [
    "df.loc['20130102', ['A', 'B']]"
   ],
   "metadata": {
    "collapsed": false,
    "ExecuteTime": {
     "end_time": "2023-11-14T01:11:44.248091300Z",
     "start_time": "2023-11-14T01:11:44.178130400Z"
    }
   },
   "id": "7548e9b68aaa9cd2"
  },
  {
   "cell_type": "code",
   "execution_count": 25,
   "outputs": [
    {
     "data": {
      "text/plain": "-0.5255803572263363"
     },
     "execution_count": 25,
     "metadata": {},
     "output_type": "execute_result"
    }
   ],
   "source": [
    "df.loc[dates[0], 'A']"
   ],
   "metadata": {
    "collapsed": false,
    "ExecuteTime": {
     "end_time": "2023-11-14T01:12:10.509887300Z",
     "start_time": "2023-11-14T01:12:10.423378300Z"
    }
   },
   "id": "f754f443e60ed046"
  },
  {
   "cell_type": "code",
   "execution_count": 26,
   "outputs": [
    {
     "data": {
      "text/plain": "A   -0.281739\nB   -1.790060\nC   -1.661966\nD    0.960971\nName: 2013-01-04 00:00:00, dtype: float64"
     },
     "execution_count": 26,
     "metadata": {},
     "output_type": "execute_result"
    }
   ],
   "source": [
    "df.iloc[3]"
   ],
   "metadata": {
    "collapsed": false,
    "ExecuteTime": {
     "end_time": "2023-11-14T01:12:25.730152800Z",
     "start_time": "2023-11-14T01:12:25.673185200Z"
    }
   },
   "id": "6ddfd96b111ef997"
  },
  {
   "cell_type": "code",
   "execution_count": 27,
   "outputs": [
    {
     "data": {
      "text/plain": "                   A         B\n2013-01-04 -0.281739 -1.790060\n2013-01-05 -0.609444  0.109938",
      "text/html": "<div>\n<style scoped>\n    .dataframe tbody tr th:only-of-type {\n        vertical-align: middle;\n    }\n\n    .dataframe tbody tr th {\n        vertical-align: top;\n    }\n\n    .dataframe thead th {\n        text-align: right;\n    }\n</style>\n<table border=\"1\" class=\"dataframe\">\n  <thead>\n    <tr style=\"text-align: right;\">\n      <th></th>\n      <th>A</th>\n      <th>B</th>\n    </tr>\n  </thead>\n  <tbody>\n    <tr>\n      <th>2013-01-04</th>\n      <td>-0.281739</td>\n      <td>-1.790060</td>\n    </tr>\n    <tr>\n      <th>2013-01-05</th>\n      <td>-0.609444</td>\n      <td>0.109938</td>\n    </tr>\n  </tbody>\n</table>\n</div>"
     },
     "execution_count": 27,
     "metadata": {},
     "output_type": "execute_result"
    }
   ],
   "source": [
    "df.iloc[3:5, 0:2]"
   ],
   "metadata": {
    "collapsed": false,
    "ExecuteTime": {
     "end_time": "2023-11-14T01:12:52.499839300Z",
     "start_time": "2023-11-14T01:12:52.440873500Z"
    }
   },
   "id": "b917211296099969"
  },
  {
   "cell_type": "code",
   "execution_count": 28,
   "outputs": [
    {
     "data": {
      "text/plain": "                   A         C\n2013-01-02  0.623547  0.608100\n2013-01-03  1.105134  1.494205\n2013-01-05 -0.609444  1.025279",
      "text/html": "<div>\n<style scoped>\n    .dataframe tbody tr th:only-of-type {\n        vertical-align: middle;\n    }\n\n    .dataframe tbody tr th {\n        vertical-align: top;\n    }\n\n    .dataframe thead th {\n        text-align: right;\n    }\n</style>\n<table border=\"1\" class=\"dataframe\">\n  <thead>\n    <tr style=\"text-align: right;\">\n      <th></th>\n      <th>A</th>\n      <th>C</th>\n    </tr>\n  </thead>\n  <tbody>\n    <tr>\n      <th>2013-01-02</th>\n      <td>0.623547</td>\n      <td>0.608100</td>\n    </tr>\n    <tr>\n      <th>2013-01-03</th>\n      <td>1.105134</td>\n      <td>1.494205</td>\n    </tr>\n    <tr>\n      <th>2013-01-05</th>\n      <td>-0.609444</td>\n      <td>1.025279</td>\n    </tr>\n  </tbody>\n</table>\n</div>"
     },
     "execution_count": 28,
     "metadata": {},
     "output_type": "execute_result"
    }
   ],
   "source": [
    "df.iloc[[1,2,4], [0,2]]"
   ],
   "metadata": {
    "collapsed": false,
    "ExecuteTime": {
     "end_time": "2023-11-14T01:13:23.026010900Z",
     "start_time": "2023-11-14T01:13:22.944057200Z"
    }
   },
   "id": "7fbfbd1f9c2cc586"
  },
  {
   "cell_type": "code",
   "execution_count": 29,
   "outputs": [
    {
     "data": {
      "text/plain": "                   A         B         C         D\n2013-01-02  0.623547 -1.396255  0.608100 -0.563222\n2013-01-03  1.105134  0.412881  1.494205 -0.026307",
      "text/html": "<div>\n<style scoped>\n    .dataframe tbody tr th:only-of-type {\n        vertical-align: middle;\n    }\n\n    .dataframe tbody tr th {\n        vertical-align: top;\n    }\n\n    .dataframe thead th {\n        text-align: right;\n    }\n</style>\n<table border=\"1\" class=\"dataframe\">\n  <thead>\n    <tr style=\"text-align: right;\">\n      <th></th>\n      <th>A</th>\n      <th>B</th>\n      <th>C</th>\n      <th>D</th>\n    </tr>\n  </thead>\n  <tbody>\n    <tr>\n      <th>2013-01-02</th>\n      <td>0.623547</td>\n      <td>-1.396255</td>\n      <td>0.608100</td>\n      <td>-0.563222</td>\n    </tr>\n    <tr>\n      <th>2013-01-03</th>\n      <td>1.105134</td>\n      <td>0.412881</td>\n      <td>1.494205</td>\n      <td>-0.026307</td>\n    </tr>\n  </tbody>\n</table>\n</div>"
     },
     "execution_count": 29,
     "metadata": {},
     "output_type": "execute_result"
    }
   ],
   "source": [
    "df.iloc[1:3, :]"
   ],
   "metadata": {
    "collapsed": false,
    "ExecuteTime": {
     "end_time": "2023-11-14T01:13:48.601194Z",
     "start_time": "2023-11-14T01:13:48.506249400Z"
    }
   },
   "id": "4355677a093cf9b6"
  },
  {
   "cell_type": "code",
   "execution_count": 30,
   "outputs": [
    {
     "data": {
      "text/plain": "                   B         C\n2013-01-01  0.878058 -0.452615\n2013-01-02 -1.396255  0.608100\n2013-01-03  0.412881  1.494205\n2013-01-04 -1.790060 -1.661966\n2013-01-05  0.109938  1.025279\n2013-01-06  0.275549 -0.437317",
      "text/html": "<div>\n<style scoped>\n    .dataframe tbody tr th:only-of-type {\n        vertical-align: middle;\n    }\n\n    .dataframe tbody tr th {\n        vertical-align: top;\n    }\n\n    .dataframe thead th {\n        text-align: right;\n    }\n</style>\n<table border=\"1\" class=\"dataframe\">\n  <thead>\n    <tr style=\"text-align: right;\">\n      <th></th>\n      <th>B</th>\n      <th>C</th>\n    </tr>\n  </thead>\n  <tbody>\n    <tr>\n      <th>2013-01-01</th>\n      <td>0.878058</td>\n      <td>-0.452615</td>\n    </tr>\n    <tr>\n      <th>2013-01-02</th>\n      <td>-1.396255</td>\n      <td>0.608100</td>\n    </tr>\n    <tr>\n      <th>2013-01-03</th>\n      <td>0.412881</td>\n      <td>1.494205</td>\n    </tr>\n    <tr>\n      <th>2013-01-04</th>\n      <td>-1.790060</td>\n      <td>-1.661966</td>\n    </tr>\n    <tr>\n      <th>2013-01-05</th>\n      <td>0.109938</td>\n      <td>1.025279</td>\n    </tr>\n    <tr>\n      <th>2013-01-06</th>\n      <td>0.275549</td>\n      <td>-0.437317</td>\n    </tr>\n  </tbody>\n</table>\n</div>"
     },
     "execution_count": 30,
     "metadata": {},
     "output_type": "execute_result"
    }
   ],
   "source": [
    "df.iloc[:, 1:3]"
   ],
   "metadata": {
    "collapsed": false,
    "ExecuteTime": {
     "end_time": "2023-11-14T01:13:59.101981600Z",
     "start_time": "2023-11-14T01:13:59.045014100Z"
    }
   },
   "id": "b320a75e97f0ae58"
  },
  {
   "cell_type": "code",
   "execution_count": 31,
   "outputs": [
    {
     "data": {
      "text/plain": "                   A         B         C         D\n2013-01-02  0.623547 -1.396255  0.608100 -0.563222\n2013-01-03  1.105134  0.412881  1.494205 -0.026307",
      "text/html": "<div>\n<style scoped>\n    .dataframe tbody tr th:only-of-type {\n        vertical-align: middle;\n    }\n\n    .dataframe tbody tr th {\n        vertical-align: top;\n    }\n\n    .dataframe thead th {\n        text-align: right;\n    }\n</style>\n<table border=\"1\" class=\"dataframe\">\n  <thead>\n    <tr style=\"text-align: right;\">\n      <th></th>\n      <th>A</th>\n      <th>B</th>\n      <th>C</th>\n      <th>D</th>\n    </tr>\n  </thead>\n  <tbody>\n    <tr>\n      <th>2013-01-02</th>\n      <td>0.623547</td>\n      <td>-1.396255</td>\n      <td>0.608100</td>\n      <td>-0.563222</td>\n    </tr>\n    <tr>\n      <th>2013-01-03</th>\n      <td>1.105134</td>\n      <td>0.412881</td>\n      <td>1.494205</td>\n      <td>-0.026307</td>\n    </tr>\n  </tbody>\n</table>\n</div>"
     },
     "execution_count": 31,
     "metadata": {},
     "output_type": "execute_result"
    }
   ],
   "source": [
    "df[df.A > 0]"
   ],
   "metadata": {
    "collapsed": false,
    "ExecuteTime": {
     "end_time": "2023-11-14T01:14:16.090035300Z",
     "start_time": "2023-11-14T01:14:16.008082500Z"
    }
   },
   "id": "4d88e2c24a946a72"
  },
  {
   "cell_type": "code",
   "execution_count": 32,
   "outputs": [
    {
     "data": {
      "text/plain": "                   A         B         C         D\n2013-01-01       NaN  0.878058       NaN       NaN\n2013-01-02  0.623547       NaN  0.608100       NaN\n2013-01-03  1.105134  0.412881  1.494205       NaN\n2013-01-04       NaN       NaN       NaN  0.960971\n2013-01-05       NaN  0.109938  1.025279  0.623548\n2013-01-06       NaN  0.275549       NaN  0.136996",
      "text/html": "<div>\n<style scoped>\n    .dataframe tbody tr th:only-of-type {\n        vertical-align: middle;\n    }\n\n    .dataframe tbody tr th {\n        vertical-align: top;\n    }\n\n    .dataframe thead th {\n        text-align: right;\n    }\n</style>\n<table border=\"1\" class=\"dataframe\">\n  <thead>\n    <tr style=\"text-align: right;\">\n      <th></th>\n      <th>A</th>\n      <th>B</th>\n      <th>C</th>\n      <th>D</th>\n    </tr>\n  </thead>\n  <tbody>\n    <tr>\n      <th>2013-01-01</th>\n      <td>NaN</td>\n      <td>0.878058</td>\n      <td>NaN</td>\n      <td>NaN</td>\n    </tr>\n    <tr>\n      <th>2013-01-02</th>\n      <td>0.623547</td>\n      <td>NaN</td>\n      <td>0.608100</td>\n      <td>NaN</td>\n    </tr>\n    <tr>\n      <th>2013-01-03</th>\n      <td>1.105134</td>\n      <td>0.412881</td>\n      <td>1.494205</td>\n      <td>NaN</td>\n    </tr>\n    <tr>\n      <th>2013-01-04</th>\n      <td>NaN</td>\n      <td>NaN</td>\n      <td>NaN</td>\n      <td>0.960971</td>\n    </tr>\n    <tr>\n      <th>2013-01-05</th>\n      <td>NaN</td>\n      <td>0.109938</td>\n      <td>1.025279</td>\n      <td>0.623548</td>\n    </tr>\n    <tr>\n      <th>2013-01-06</th>\n      <td>NaN</td>\n      <td>0.275549</td>\n      <td>NaN</td>\n      <td>0.136996</td>\n    </tr>\n  </tbody>\n</table>\n</div>"
     },
     "execution_count": 32,
     "metadata": {},
     "output_type": "execute_result"
    }
   ],
   "source": [
    "df[df > 0]"
   ],
   "metadata": {
    "collapsed": false,
    "ExecuteTime": {
     "end_time": "2023-11-14T01:16:17.839274600Z",
     "start_time": "2023-11-14T01:16:17.750325600Z"
    }
   },
   "id": "4f70049ee62e572a"
  },
  {
   "cell_type": "code",
   "execution_count": 33,
   "outputs": [],
   "source": [
    "df2 = df.copy()"
   ],
   "metadata": {
    "collapsed": false,
    "ExecuteTime": {
     "end_time": "2023-11-14T01:16:32.471275300Z",
     "start_time": "2023-11-14T01:16:32.412288100Z"
    }
   },
   "id": "803da8f0c45db334"
  },
  {
   "cell_type": "code",
   "execution_count": 35,
   "outputs": [
    {
     "name": "stdout",
     "output_type": "stream",
     "text": [
      "                   A         B         C         D      E\n",
      "2013-01-01 -0.525580  0.878058 -0.452615 -1.228146    one\n",
      "2013-01-02  0.623547 -1.396255  0.608100 -0.563222    one\n",
      "2013-01-03  1.105134  0.412881  1.494205 -0.026307    two\n",
      "2013-01-04 -0.281739 -1.790060 -1.661966  0.960971  three\n",
      "2013-01-05 -0.609444  0.109938  1.025279  0.623548   four\n",
      "2013-01-06 -0.958873  0.275549 -0.437317  0.136996  three\n"
     ]
    }
   ],
   "source": [
    "df2['E'] = ['one', 'one', 'two', 'three', 'four', 'three']\n",
    "print(df2)"
   ],
   "metadata": {
    "collapsed": false,
    "ExecuteTime": {
     "end_time": "2023-11-14T01:17:15.605173300Z",
     "start_time": "2023-11-14T01:17:15.518223300Z"
    }
   },
   "id": "926c547d811855b1"
  },
  {
   "cell_type": "code",
   "execution_count": 36,
   "outputs": [
    {
     "data": {
      "text/plain": "2013-01-01    False\n2013-01-02    False\n2013-01-03     True\n2013-01-04    False\n2013-01-05     True\n2013-01-06    False\nFreq: D, Name: E, dtype: bool"
     },
     "execution_count": 36,
     "metadata": {},
     "output_type": "execute_result"
    }
   ],
   "source": [
    "df2['E'].isin(['two', 'four'])"
   ],
   "metadata": {
    "collapsed": false,
    "ExecuteTime": {
     "end_time": "2023-11-14T01:17:41.644484300Z",
     "start_time": "2023-11-14T01:17:41.578523Z"
    }
   },
   "id": "b5358081f8da6c28"
  },
  {
   "cell_type": "code",
   "execution_count": 37,
   "outputs": [
    {
     "data": {
      "text/plain": "                   A         B         C         D     E\n2013-01-03  1.105134  0.412881  1.494205 -0.026307   two\n2013-01-05 -0.609444  0.109938  1.025279  0.623548  four",
      "text/html": "<div>\n<style scoped>\n    .dataframe tbody tr th:only-of-type {\n        vertical-align: middle;\n    }\n\n    .dataframe tbody tr th {\n        vertical-align: top;\n    }\n\n    .dataframe thead th {\n        text-align: right;\n    }\n</style>\n<table border=\"1\" class=\"dataframe\">\n  <thead>\n    <tr style=\"text-align: right;\">\n      <th></th>\n      <th>A</th>\n      <th>B</th>\n      <th>C</th>\n      <th>D</th>\n      <th>E</th>\n    </tr>\n  </thead>\n  <tbody>\n    <tr>\n      <th>2013-01-03</th>\n      <td>1.105134</td>\n      <td>0.412881</td>\n      <td>1.494205</td>\n      <td>-0.026307</td>\n      <td>two</td>\n    </tr>\n    <tr>\n      <th>2013-01-05</th>\n      <td>-0.609444</td>\n      <td>0.109938</td>\n      <td>1.025279</td>\n      <td>0.623548</td>\n      <td>four</td>\n    </tr>\n  </tbody>\n</table>\n</div>"
     },
     "execution_count": 37,
     "metadata": {},
     "output_type": "execute_result"
    }
   ],
   "source": [
    "df2[df2['E'].isin(['two', 'four'])]"
   ],
   "metadata": {
    "collapsed": false,
    "ExecuteTime": {
     "end_time": "2023-11-14T01:23:42.329091400Z",
     "start_time": "2023-11-14T01:23:42.200165500Z"
    }
   },
   "id": "5be8d0df94d0a5b2"
  },
  {
   "cell_type": "code",
   "execution_count": 38,
   "outputs": [
    {
     "data": {
      "text/plain": "                   A         B         C         D\n2013-01-01  0.227120  1.400673  0.297851 -0.800542\n2013-01-02 -0.918592  0.787653  0.900313 -0.191109\n2013-01-03  0.138173  0.894271  1.463731  0.315618\n2013-01-04 -3.119265  0.461342  0.471204  1.081672\n2013-01-05 -1.103889  0.156137  0.582952  1.270082\n2013-01-06 -0.112216  0.713576  1.415304 -0.903181",
      "text/html": "<div>\n<style scoped>\n    .dataframe tbody tr th:only-of-type {\n        vertical-align: middle;\n    }\n\n    .dataframe tbody tr th {\n        vertical-align: top;\n    }\n\n    .dataframe thead th {\n        text-align: right;\n    }\n</style>\n<table border=\"1\" class=\"dataframe\">\n  <thead>\n    <tr style=\"text-align: right;\">\n      <th></th>\n      <th>A</th>\n      <th>B</th>\n      <th>C</th>\n      <th>D</th>\n    </tr>\n  </thead>\n  <tbody>\n    <tr>\n      <th>2013-01-01</th>\n      <td>0.227120</td>\n      <td>1.400673</td>\n      <td>0.297851</td>\n      <td>-0.800542</td>\n    </tr>\n    <tr>\n      <th>2013-01-02</th>\n      <td>-0.918592</td>\n      <td>0.787653</td>\n      <td>0.900313</td>\n      <td>-0.191109</td>\n    </tr>\n    <tr>\n      <th>2013-01-03</th>\n      <td>0.138173</td>\n      <td>0.894271</td>\n      <td>1.463731</td>\n      <td>0.315618</td>\n    </tr>\n    <tr>\n      <th>2013-01-04</th>\n      <td>-3.119265</td>\n      <td>0.461342</td>\n      <td>0.471204</td>\n      <td>1.081672</td>\n    </tr>\n    <tr>\n      <th>2013-01-05</th>\n      <td>-1.103889</td>\n      <td>0.156137</td>\n      <td>0.582952</td>\n      <td>1.270082</td>\n    </tr>\n    <tr>\n      <th>2013-01-06</th>\n      <td>-0.112216</td>\n      <td>0.713576</td>\n      <td>1.415304</td>\n      <td>-0.903181</td>\n    </tr>\n  </tbody>\n</table>\n</div>"
     },
     "execution_count": 38,
     "metadata": {},
     "output_type": "execute_result"
    }
   ],
   "source": [
    "df = pd.DataFrame(np.random.randn(6,4), index=dates, columns=['A', 'B', 'C', 'D'])\n",
    "df"
   ],
   "metadata": {
    "collapsed": false,
    "ExecuteTime": {
     "end_time": "2023-11-14T01:24:33.952711Z",
     "start_time": "2023-11-14T01:24:33.832779100Z"
    }
   },
   "id": "9bf77ea6ce29d895"
  },
  {
   "cell_type": "code",
   "execution_count": 40,
   "outputs": [
    {
     "data": {
      "text/plain": "                   A         B         C         D\n2013-01-01  0.227120  1.400673  0.297851 -0.800542\n2013-01-02 -0.691472  2.188326  1.198164 -0.991651\n2013-01-03 -0.553300  3.082597  2.661895 -0.676033\n2013-01-04 -3.672565  3.543939  3.133099  0.405639\n2013-01-05 -4.776454  3.700075  3.716051  1.675721\n2013-01-06 -4.888670  4.413651  5.131355  0.772539",
      "text/html": "<div>\n<style scoped>\n    .dataframe tbody tr th:only-of-type {\n        vertical-align: middle;\n    }\n\n    .dataframe tbody tr th {\n        vertical-align: top;\n    }\n\n    .dataframe thead th {\n        text-align: right;\n    }\n</style>\n<table border=\"1\" class=\"dataframe\">\n  <thead>\n    <tr style=\"text-align: right;\">\n      <th></th>\n      <th>A</th>\n      <th>B</th>\n      <th>C</th>\n      <th>D</th>\n    </tr>\n  </thead>\n  <tbody>\n    <tr>\n      <th>2013-01-01</th>\n      <td>0.227120</td>\n      <td>1.400673</td>\n      <td>0.297851</td>\n      <td>-0.800542</td>\n    </tr>\n    <tr>\n      <th>2013-01-02</th>\n      <td>-0.691472</td>\n      <td>2.188326</td>\n      <td>1.198164</td>\n      <td>-0.991651</td>\n    </tr>\n    <tr>\n      <th>2013-01-03</th>\n      <td>-0.553300</td>\n      <td>3.082597</td>\n      <td>2.661895</td>\n      <td>-0.676033</td>\n    </tr>\n    <tr>\n      <th>2013-01-04</th>\n      <td>-3.672565</td>\n      <td>3.543939</td>\n      <td>3.133099</td>\n      <td>0.405639</td>\n    </tr>\n    <tr>\n      <th>2013-01-05</th>\n      <td>-4.776454</td>\n      <td>3.700075</td>\n      <td>3.716051</td>\n      <td>1.675721</td>\n    </tr>\n    <tr>\n      <th>2013-01-06</th>\n      <td>-4.888670</td>\n      <td>4.413651</td>\n      <td>5.131355</td>\n      <td>0.772539</td>\n    </tr>\n  </tbody>\n</table>\n</div>"
     },
     "execution_count": 40,
     "metadata": {},
     "output_type": "execute_result"
    }
   ],
   "source": [
    "df.apply(np.cumsum)"
   ],
   "metadata": {
    "collapsed": false,
    "ExecuteTime": {
     "end_time": "2023-11-14T01:24:48.997677900Z",
     "start_time": "2023-11-14T01:24:48.925731100Z"
    }
   },
   "id": "46d080b60d132199"
  },
  {
   "cell_type": "code",
   "execution_count": 41,
   "outputs": [
    {
     "data": {
      "text/plain": "A    3.346386\nB    1.244536\nC    1.165880\nD    2.173263\ndtype: float64"
     },
     "execution_count": 41,
     "metadata": {},
     "output_type": "execute_result"
    }
   ],
   "source": [
    "df.apply(lambda x:x.max()-x.min())"
   ],
   "metadata": {
    "collapsed": false,
    "ExecuteTime": {
     "end_time": "2023-11-14T01:26:17.254165700Z",
     "start_time": "2023-11-14T01:26:17.193199700Z"
    }
   },
   "id": "da7de585512968d6"
  },
  {
   "cell_type": "code",
   "execution_count": null,
   "outputs": [],
   "source": [],
   "metadata": {
    "collapsed": false
   },
   "id": "f8478ad2c85f88a2"
  }
 ],
 "metadata": {
  "kernelspec": {
   "display_name": "Python 3",
   "language": "python",
   "name": "python3"
  },
  "language_info": {
   "codemirror_mode": {
    "name": "ipython",
    "version": 2
   },
   "file_extension": ".py",
   "mimetype": "text/x-python",
   "name": "python",
   "nbconvert_exporter": "python",
   "pygments_lexer": "ipython2",
   "version": "2.7.6"
  }
 },
 "nbformat": 4,
 "nbformat_minor": 5
}
=======
{
 "cells": [
  {
   "cell_type": "code",
   "execution_count": 1,
   "id": "initial_id",
   "metadata": {
    "collapsed": true,
    "ExecuteTime": {
     "end_time": "2023-11-14T00:41:34.620144500Z",
     "start_time": "2023-11-14T00:41:33.973515400Z"
    }
   },
   "outputs": [],
   "source": [
    "import pandas as pd\n",
    "import numpy as np"
   ]
  },
  {
   "cell_type": "code",
   "execution_count": 2,
   "outputs": [
    {
     "data": {
      "text/plain": "0    1.0\n1    3.0\n2    5.0\n3    NaN\n4    6.0\n5    8.0\ndtype: float64"
     },
     "execution_count": 2,
     "metadata": {},
     "output_type": "execute_result"
    }
   ],
   "source": [
    "s = pd.Series([1,3,5,np.nan, 6, 8])\n",
    "s"
   ],
   "metadata": {
    "collapsed": false,
    "ExecuteTime": {
     "end_time": "2023-11-14T00:42:04.472615700Z",
     "start_time": "2023-11-14T00:42:04.442634900Z"
    }
   },
   "id": "7e69967a0af7c501"
  },
  {
   "cell_type": "code",
   "execution_count": 3,
   "outputs": [
    {
     "name": "stdout",
     "output_type": "stream",
     "text": [
      "DatetimeIndex(['2013-01-01', '2013-01-02', '2013-01-03', '2013-01-04',\n",
      "               '2013-01-05', '2013-01-06'],\n",
      "              dtype='datetime64[ns]', freq='D')\n"
     ]
    }
   ],
   "source": [
    " dates = pd.date_range('20130101', periods=6)\n",
    "print(dates)"
   ],
   "metadata": {
    "collapsed": false,
    "ExecuteTime": {
     "end_time": "2023-11-14T00:44:26.884795300Z",
     "start_time": "2023-11-14T00:44:26.828829500Z"
    }
   },
   "id": "b9dacb8d50802ef2"
  },
  {
   "cell_type": "code",
   "execution_count": 5,
   "outputs": [
    {
     "data": {
      "text/plain": "                   A         B         C         D\n2013-01-01 -0.525580  0.878058 -0.452615 -1.228146\n2013-01-02  0.623547 -1.396255  0.608100 -0.563222\n2013-01-03  1.105134  0.412881  1.494205 -0.026307\n2013-01-04 -0.281739 -1.790060 -1.661966  0.960971\n2013-01-05 -0.609444  0.109938  1.025279  0.623548\n2013-01-06 -0.958873  0.275549 -0.437317  0.136996",
      "text/html": "<div>\n<style scoped>\n    .dataframe tbody tr th:only-of-type {\n        vertical-align: middle;\n    }\n\n    .dataframe tbody tr th {\n        vertical-align: top;\n    }\n\n    .dataframe thead th {\n        text-align: right;\n    }\n</style>\n<table border=\"1\" class=\"dataframe\">\n  <thead>\n    <tr style=\"text-align: right;\">\n      <th></th>\n      <th>A</th>\n      <th>B</th>\n      <th>C</th>\n      <th>D</th>\n    </tr>\n  </thead>\n  <tbody>\n    <tr>\n      <th>2013-01-01</th>\n      <td>-0.525580</td>\n      <td>0.878058</td>\n      <td>-0.452615</td>\n      <td>-1.228146</td>\n    </tr>\n    <tr>\n      <th>2013-01-02</th>\n      <td>0.623547</td>\n      <td>-1.396255</td>\n      <td>0.608100</td>\n      <td>-0.563222</td>\n    </tr>\n    <tr>\n      <th>2013-01-03</th>\n      <td>1.105134</td>\n      <td>0.412881</td>\n      <td>1.494205</td>\n      <td>-0.026307</td>\n    </tr>\n    <tr>\n      <th>2013-01-04</th>\n      <td>-0.281739</td>\n      <td>-1.790060</td>\n      <td>-1.661966</td>\n      <td>0.960971</td>\n    </tr>\n    <tr>\n      <th>2013-01-05</th>\n      <td>-0.609444</td>\n      <td>0.109938</td>\n      <td>1.025279</td>\n      <td>0.623548</td>\n    </tr>\n    <tr>\n      <th>2013-01-06</th>\n      <td>-0.958873</td>\n      <td>0.275549</td>\n      <td>-0.437317</td>\n      <td>0.136996</td>\n    </tr>\n  </tbody>\n</table>\n</div>"
     },
     "execution_count": 5,
     "metadata": {},
     "output_type": "execute_result"
    }
   ],
   "source": [
    "df = pd.DataFrame(np.random.randn(6,4), index=dates, columns=['A', 'B', 'C', 'D'])\n",
    "df"
   ],
   "metadata": {
    "collapsed": false,
    "ExecuteTime": {
     "end_time": "2023-11-14T00:46:42.061347900Z",
     "start_time": "2023-11-14T00:46:42.031365Z"
    }
   },
   "id": "6916ab2f7c0c345c"
  },
  {
   "cell_type": "code",
   "execution_count": 6,
   "outputs": [
    {
     "data": {
      "text/plain": "                   A         B         C         D\n2013-01-01 -0.525580  0.878058 -0.452615 -1.228146\n2013-01-02  0.623547 -1.396255  0.608100 -0.563222\n2013-01-03  1.105134  0.412881  1.494205 -0.026307",
      "text/html": "<div>\n<style scoped>\n    .dataframe tbody tr th:only-of-type {\n        vertical-align: middle;\n    }\n\n    .dataframe tbody tr th {\n        vertical-align: top;\n    }\n\n    .dataframe thead th {\n        text-align: right;\n    }\n</style>\n<table border=\"1\" class=\"dataframe\">\n  <thead>\n    <tr style=\"text-align: right;\">\n      <th></th>\n      <th>A</th>\n      <th>B</th>\n      <th>C</th>\n      <th>D</th>\n    </tr>\n  </thead>\n  <tbody>\n    <tr>\n      <th>2013-01-01</th>\n      <td>-0.525580</td>\n      <td>0.878058</td>\n      <td>-0.452615</td>\n      <td>-1.228146</td>\n    </tr>\n    <tr>\n      <th>2013-01-02</th>\n      <td>0.623547</td>\n      <td>-1.396255</td>\n      <td>0.608100</td>\n      <td>-0.563222</td>\n    </tr>\n    <tr>\n      <th>2013-01-03</th>\n      <td>1.105134</td>\n      <td>0.412881</td>\n      <td>1.494205</td>\n      <td>-0.026307</td>\n    </tr>\n  </tbody>\n</table>\n</div>"
     },
     "execution_count": 6,
     "metadata": {},
     "output_type": "execute_result"
    }
   ],
   "source": [
    "df.head(3)"
   ],
   "metadata": {
    "collapsed": false,
    "ExecuteTime": {
     "end_time": "2023-11-14T00:48:20.127361200Z",
     "start_time": "2023-11-14T00:48:20.083386Z"
    }
   },
   "id": "ab7db59d65f383cc"
  },
  {
   "cell_type": "code",
   "execution_count": 7,
   "outputs": [
    {
     "data": {
      "text/plain": "DatetimeIndex(['2013-01-01', '2013-01-02', '2013-01-03', '2013-01-04',\n               '2013-01-05', '2013-01-06'],\n              dtype='datetime64[ns]', freq='D')"
     },
     "execution_count": 7,
     "metadata": {},
     "output_type": "execute_result"
    }
   ],
   "source": [
    "df.index"
   ],
   "metadata": {
    "collapsed": false,
    "ExecuteTime": {
     "end_time": "2023-11-14T00:48:26.478137700Z",
     "start_time": "2023-11-14T00:48:26.212253900Z"
    }
   },
   "id": "69d346581d33f082"
  },
  {
   "cell_type": "code",
   "execution_count": 8,
   "outputs": [
    {
     "data": {
      "text/plain": "Index(['A', 'B', 'C', 'D'], dtype='object')"
     },
     "execution_count": 8,
     "metadata": {},
     "output_type": "execute_result"
    }
   ],
   "source": [
    "df.columns"
   ],
   "metadata": {
    "collapsed": false,
    "ExecuteTime": {
     "end_time": "2023-11-14T00:48:34.308454900Z",
     "start_time": "2023-11-14T00:48:34.219505900Z"
    }
   },
   "id": "dbc4436376611b32"
  },
  {
   "cell_type": "code",
   "execution_count": 9,
   "outputs": [
    {
     "data": {
      "text/plain": "array([[-0.52558036,  0.87805777, -0.45261537, -1.22814638],\n       [ 0.6235469 , -1.39625507,  0.60809988, -0.5632222 ],\n       [ 1.10513354,  0.41288076,  1.49420457, -0.02630687],\n       [-0.28173884, -1.79005999, -1.66196566,  0.96097054],\n       [-0.60944372,  0.10993779,  1.02527926,  0.62354789],\n       [-0.95887267,  0.27554933, -0.43731661,  0.13699565]])"
     },
     "execution_count": 9,
     "metadata": {},
     "output_type": "execute_result"
    }
   ],
   "source": [
    "df.values"
   ],
   "metadata": {
    "collapsed": false,
    "ExecuteTime": {
     "end_time": "2023-11-14T00:48:53.473463900Z",
     "start_time": "2023-11-14T00:48:53.442481700Z"
    }
   },
   "id": "1448186725317d9d"
  },
  {
   "cell_type": "code",
   "execution_count": 10,
   "outputs": [
    {
     "name": "stdout",
     "output_type": "stream",
     "text": [
      "<class 'pandas.core.frame.DataFrame'>\n",
      "DatetimeIndex: 6 entries, 2013-01-01 to 2013-01-06\n",
      "Freq: D\n",
      "Data columns (total 4 columns):\n",
      " #   Column  Non-Null Count  Dtype  \n",
      "---  ------  --------------  -----  \n",
      " 0   A       6 non-null      float64\n",
      " 1   B       6 non-null      float64\n",
      " 2   C       6 non-null      float64\n",
      " 3   D       6 non-null      float64\n",
      "dtypes: float64(4)\n",
      "memory usage: 240.0 bytes\n"
     ]
    }
   ],
   "source": [
    "df.info()"
   ],
   "metadata": {
    "collapsed": false,
    "ExecuteTime": {
     "end_time": "2023-11-14T00:51:08.173510500Z",
     "start_time": "2023-11-14T00:51:08.106548500Z"
    }
   },
   "id": "f63ca8eff6b0ef21"
  },
  {
   "cell_type": "code",
   "execution_count": 11,
   "outputs": [
    {
     "data": {
      "text/plain": "              A         B         C         D\ncount  6.000000  6.000000  6.000000  6.000000\nmean  -0.107826 -0.251648  0.095948 -0.016027\nstd    0.798354  1.077344  1.162466  0.794450\nmin   -0.958873 -1.790060 -1.661966 -1.228146\n25%   -0.588478 -1.019707 -0.448791 -0.428993\n50%   -0.403660  0.192744  0.085392  0.055344\n75%    0.397225  0.378548  0.920984  0.501910\nmax    1.105134  0.878058  1.494205  0.960971",
      "text/html": "<div>\n<style scoped>\n    .dataframe tbody tr th:only-of-type {\n        vertical-align: middle;\n    }\n\n    .dataframe tbody tr th {\n        vertical-align: top;\n    }\n\n    .dataframe thead th {\n        text-align: right;\n    }\n</style>\n<table border=\"1\" class=\"dataframe\">\n  <thead>\n    <tr style=\"text-align: right;\">\n      <th></th>\n      <th>A</th>\n      <th>B</th>\n      <th>C</th>\n      <th>D</th>\n    </tr>\n  </thead>\n  <tbody>\n    <tr>\n      <th>count</th>\n      <td>6.000000</td>\n      <td>6.000000</td>\n      <td>6.000000</td>\n      <td>6.000000</td>\n    </tr>\n    <tr>\n      <th>mean</th>\n      <td>-0.107826</td>\n      <td>-0.251648</td>\n      <td>0.095948</td>\n      <td>-0.016027</td>\n    </tr>\n    <tr>\n      <th>std</th>\n      <td>0.798354</td>\n      <td>1.077344</td>\n      <td>1.162466</td>\n      <td>0.794450</td>\n    </tr>\n    <tr>\n      <th>min</th>\n      <td>-0.958873</td>\n      <td>-1.790060</td>\n      <td>-1.661966</td>\n      <td>-1.228146</td>\n    </tr>\n    <tr>\n      <th>25%</th>\n      <td>-0.588478</td>\n      <td>-1.019707</td>\n      <td>-0.448791</td>\n      <td>-0.428993</td>\n    </tr>\n    <tr>\n      <th>50%</th>\n      <td>-0.403660</td>\n      <td>0.192744</td>\n      <td>0.085392</td>\n      <td>0.055344</td>\n    </tr>\n    <tr>\n      <th>75%</th>\n      <td>0.397225</td>\n      <td>0.378548</td>\n      <td>0.920984</td>\n      <td>0.501910</td>\n    </tr>\n    <tr>\n      <th>max</th>\n      <td>1.105134</td>\n      <td>0.878058</td>\n      <td>1.494205</td>\n      <td>0.960971</td>\n    </tr>\n  </tbody>\n</table>\n</div>"
     },
     "execution_count": 11,
     "metadata": {},
     "output_type": "execute_result"
    }
   ],
   "source": [
    "df.describe()"
   ],
   "metadata": {
    "collapsed": false,
    "ExecuteTime": {
     "end_time": "2023-11-14T00:51:18.818362700Z",
     "start_time": "2023-11-14T00:51:18.715421400Z"
    }
   },
   "id": "f9a9d72f71205114"
  },
  {
   "cell_type": "code",
   "execution_count": 12,
   "outputs": [
    {
     "data": {
      "text/plain": "                   A         B         C         D\n2013-01-01 -0.525580  0.878058 -0.452615 -1.228146\n2013-01-03  1.105134  0.412881  1.494205 -0.026307\n2013-01-06 -0.958873  0.275549 -0.437317  0.136996\n2013-01-05 -0.609444  0.109938  1.025279  0.623548\n2013-01-02  0.623547 -1.396255  0.608100 -0.563222\n2013-01-04 -0.281739 -1.790060 -1.661966  0.960971",
      "text/html": "<div>\n<style scoped>\n    .dataframe tbody tr th:only-of-type {\n        vertical-align: middle;\n    }\n\n    .dataframe tbody tr th {\n        vertical-align: top;\n    }\n\n    .dataframe thead th {\n        text-align: right;\n    }\n</style>\n<table border=\"1\" class=\"dataframe\">\n  <thead>\n    <tr style=\"text-align: right;\">\n      <th></th>\n      <th>A</th>\n      <th>B</th>\n      <th>C</th>\n      <th>D</th>\n    </tr>\n  </thead>\n  <tbody>\n    <tr>\n      <th>2013-01-01</th>\n      <td>-0.525580</td>\n      <td>0.878058</td>\n      <td>-0.452615</td>\n      <td>-1.228146</td>\n    </tr>\n    <tr>\n      <th>2013-01-03</th>\n      <td>1.105134</td>\n      <td>0.412881</td>\n      <td>1.494205</td>\n      <td>-0.026307</td>\n    </tr>\n    <tr>\n      <th>2013-01-06</th>\n      <td>-0.958873</td>\n      <td>0.275549</td>\n      <td>-0.437317</td>\n      <td>0.136996</td>\n    </tr>\n    <tr>\n      <th>2013-01-05</th>\n      <td>-0.609444</td>\n      <td>0.109938</td>\n      <td>1.025279</td>\n      <td>0.623548</td>\n    </tr>\n    <tr>\n      <th>2013-01-02</th>\n      <td>0.623547</td>\n      <td>-1.396255</td>\n      <td>0.608100</td>\n      <td>-0.563222</td>\n    </tr>\n    <tr>\n      <th>2013-01-04</th>\n      <td>-0.281739</td>\n      <td>-1.790060</td>\n      <td>-1.661966</td>\n      <td>0.960971</td>\n    </tr>\n  </tbody>\n</table>\n</div>"
     },
     "execution_count": 12,
     "metadata": {},
     "output_type": "execute_result"
    }
   ],
   "source": [
    "df.sort_values(by=\"B\", ascending=False)"
   ],
   "metadata": {
    "collapsed": false,
    "ExecuteTime": {
     "end_time": "2023-11-14T01:04:46.752406500Z",
     "start_time": "2023-11-14T01:04:46.694439600Z"
    }
   },
   "id": "41e9117650c32448"
  },
  {
   "cell_type": "code",
   "execution_count": 14,
   "outputs": [
    {
     "data": {
      "text/plain": "2013-01-01   -0.525580\n2013-01-02    0.623547\n2013-01-03    1.105134\n2013-01-04   -0.281739\n2013-01-05   -0.609444\n2013-01-06   -0.958873\nFreq: D, Name: A, dtype: float64"
     },
     "execution_count": 14,
     "metadata": {},
     "output_type": "execute_result"
    }
   ],
   "source": [
    "df['A']"
   ],
   "metadata": {
    "collapsed": false,
    "ExecuteTime": {
     "end_time": "2023-11-14T01:05:05.696567Z",
     "start_time": "2023-11-14T01:05:05.658595700Z"
    }
   },
   "id": "d34fe23f81298c20"
  },
  {
   "cell_type": "code",
   "execution_count": 19,
   "outputs": [
    {
     "data": {
      "text/plain": "                   A         B         C         D\n2013-01-01 -0.525580  0.878058 -0.452615 -1.228146\n2013-01-02  0.623547 -1.396255  0.608100 -0.563222\n2013-01-03  1.105134  0.412881  1.494205 -0.026307",
      "text/html": "<div>\n<style scoped>\n    .dataframe tbody tr th:only-of-type {\n        vertical-align: middle;\n    }\n\n    .dataframe tbody tr th {\n        vertical-align: top;\n    }\n\n    .dataframe thead th {\n        text-align: right;\n    }\n</style>\n<table border=\"1\" class=\"dataframe\">\n  <thead>\n    <tr style=\"text-align: right;\">\n      <th></th>\n      <th>A</th>\n      <th>B</th>\n      <th>C</th>\n      <th>D</th>\n    </tr>\n  </thead>\n  <tbody>\n    <tr>\n      <th>2013-01-01</th>\n      <td>-0.525580</td>\n      <td>0.878058</td>\n      <td>-0.452615</td>\n      <td>-1.228146</td>\n    </tr>\n    <tr>\n      <th>2013-01-02</th>\n      <td>0.623547</td>\n      <td>-1.396255</td>\n      <td>0.608100</td>\n      <td>-0.563222</td>\n    </tr>\n    <tr>\n      <th>2013-01-03</th>\n      <td>1.105134</td>\n      <td>0.412881</td>\n      <td>1.494205</td>\n      <td>-0.026307</td>\n    </tr>\n  </tbody>\n</table>\n</div>"
     },
     "execution_count": 19,
     "metadata": {},
     "output_type": "execute_result"
    }
   ],
   "source": [
    "df[0:3]\n",
    "# df[:3]"
   ],
   "metadata": {
    "collapsed": false,
    "ExecuteTime": {
     "end_time": "2023-11-14T01:05:56.849328300Z",
     "start_time": "2023-11-14T01:05:56.794360Z"
    }
   },
   "id": "8b023cfc5eb8b052"
  },
  {
   "cell_type": "code",
   "execution_count": 20,
   "outputs": [
    {
     "data": {
      "text/plain": "                   A         B         C         D\n2013-01-02  0.623547 -1.396255  0.608100 -0.563222\n2013-01-03  1.105134  0.412881  1.494205 -0.026307\n2013-01-04 -0.281739 -1.790060 -1.661966  0.960971",
      "text/html": "<div>\n<style scoped>\n    .dataframe tbody tr th:only-of-type {\n        vertical-align: middle;\n    }\n\n    .dataframe tbody tr th {\n        vertical-align: top;\n    }\n\n    .dataframe thead th {\n        text-align: right;\n    }\n</style>\n<table border=\"1\" class=\"dataframe\">\n  <thead>\n    <tr style=\"text-align: right;\">\n      <th></th>\n      <th>A</th>\n      <th>B</th>\n      <th>C</th>\n      <th>D</th>\n    </tr>\n  </thead>\n  <tbody>\n    <tr>\n      <th>2013-01-02</th>\n      <td>0.623547</td>\n      <td>-1.396255</td>\n      <td>0.608100</td>\n      <td>-0.563222</td>\n    </tr>\n    <tr>\n      <th>2013-01-03</th>\n      <td>1.105134</td>\n      <td>0.412881</td>\n      <td>1.494205</td>\n      <td>-0.026307</td>\n    </tr>\n    <tr>\n      <th>2013-01-04</th>\n      <td>-0.281739</td>\n      <td>-1.790060</td>\n      <td>-1.661966</td>\n      <td>0.960971</td>\n    </tr>\n  </tbody>\n</table>\n</div>"
     },
     "execution_count": 20,
     "metadata": {},
     "output_type": "execute_result"
    }
   ],
   "source": [
    "df['20130102' : '20130104']"
   ],
   "metadata": {
    "collapsed": false,
    "ExecuteTime": {
     "end_time": "2023-11-14T01:06:18.584810700Z",
     "start_time": "2023-11-14T01:06:18.517849400Z"
    }
   },
   "id": "72bf2d3399c23ada"
  },
  {
   "cell_type": "code",
   "execution_count": 21,
   "outputs": [
    {
     "data": {
      "text/plain": "A   -0.525580\nB    0.878058\nC   -0.452615\nD   -1.228146\nName: 2013-01-01 00:00:00, dtype: float64"
     },
     "execution_count": 21,
     "metadata": {},
     "output_type": "execute_result"
    }
   ],
   "source": [
    "df.loc[dates[0]]"
   ],
   "metadata": {
    "collapsed": false,
    "ExecuteTime": {
     "end_time": "2023-11-14T01:06:32.252806800Z",
     "start_time": "2023-11-14T01:06:32.197837900Z"
    }
   },
   "id": "384550096881acac"
  },
  {
   "cell_type": "code",
   "execution_count": 23,
   "outputs": [
    {
     "data": {
      "text/plain": "                   A         B\n2013-01-01 -0.525580  0.878058\n2013-01-02  0.623547 -1.396255\n2013-01-03  1.105134  0.412881\n2013-01-04 -0.281739 -1.790060\n2013-01-05 -0.609444  0.109938\n2013-01-06 -0.958873  0.275549",
      "text/html": "<div>\n<style scoped>\n    .dataframe tbody tr th:only-of-type {\n        vertical-align: middle;\n    }\n\n    .dataframe tbody tr th {\n        vertical-align: top;\n    }\n\n    .dataframe thead th {\n        text-align: right;\n    }\n</style>\n<table border=\"1\" class=\"dataframe\">\n  <thead>\n    <tr style=\"text-align: right;\">\n      <th></th>\n      <th>A</th>\n      <th>B</th>\n    </tr>\n  </thead>\n  <tbody>\n    <tr>\n      <th>2013-01-01</th>\n      <td>-0.525580</td>\n      <td>0.878058</td>\n    </tr>\n    <tr>\n      <th>2013-01-02</th>\n      <td>0.623547</td>\n      <td>-1.396255</td>\n    </tr>\n    <tr>\n      <th>2013-01-03</th>\n      <td>1.105134</td>\n      <td>0.412881</td>\n    </tr>\n    <tr>\n      <th>2013-01-04</th>\n      <td>-0.281739</td>\n      <td>-1.790060</td>\n    </tr>\n    <tr>\n      <th>2013-01-05</th>\n      <td>-0.609444</td>\n      <td>0.109938</td>\n    </tr>\n    <tr>\n      <th>2013-01-06</th>\n      <td>-0.958873</td>\n      <td>0.275549</td>\n    </tr>\n  </tbody>\n</table>\n</div>"
     },
     "execution_count": 23,
     "metadata": {},
     "output_type": "execute_result"
    }
   ],
   "source": [
    "df.loc[:, ['A', 'B']]"
   ],
   "metadata": {
    "collapsed": false,
    "ExecuteTime": {
     "end_time": "2023-11-14T01:11:25.867227400Z",
     "start_time": "2023-11-14T01:11:25.847238600Z"
    }
   },
   "id": "c3c70842684c2bab"
  },
  {
   "cell_type": "code",
   "execution_count": 24,
   "outputs": [
    {
     "data": {
      "text/plain": "A    0.623547\nB   -1.396255\nName: 2013-01-02 00:00:00, dtype: float64"
     },
     "execution_count": 24,
     "metadata": {},
     "output_type": "execute_result"
    }
   ],
   "source": [
    "df.loc['20130102', ['A', 'B']]"
   ],
   "metadata": {
    "collapsed": false,
    "ExecuteTime": {
     "end_time": "2023-11-14T01:11:44.248091300Z",
     "start_time": "2023-11-14T01:11:44.178130400Z"
    }
   },
   "id": "7548e9b68aaa9cd2"
  },
  {
   "cell_type": "code",
   "execution_count": 25,
   "outputs": [
    {
     "data": {
      "text/plain": "-0.5255803572263363"
     },
     "execution_count": 25,
     "metadata": {},
     "output_type": "execute_result"
    }
   ],
   "source": [
    "df.loc[dates[0], 'A']"
   ],
   "metadata": {
    "collapsed": false,
    "ExecuteTime": {
     "end_time": "2023-11-14T01:12:10.509887300Z",
     "start_time": "2023-11-14T01:12:10.423378300Z"
    }
   },
   "id": "f754f443e60ed046"
  },
  {
   "cell_type": "code",
   "execution_count": 26,
   "outputs": [
    {
     "data": {
      "text/plain": "A   -0.281739\nB   -1.790060\nC   -1.661966\nD    0.960971\nName: 2013-01-04 00:00:00, dtype: float64"
     },
     "execution_count": 26,
     "metadata": {},
     "output_type": "execute_result"
    }
   ],
   "source": [
    "df.iloc[3]"
   ],
   "metadata": {
    "collapsed": false,
    "ExecuteTime": {
     "end_time": "2023-11-14T01:12:25.730152800Z",
     "start_time": "2023-11-14T01:12:25.673185200Z"
    }
   },
   "id": "6ddfd96b111ef997"
  },
  {
   "cell_type": "code",
   "execution_count": 27,
   "outputs": [
    {
     "data": {
      "text/plain": "                   A         B\n2013-01-04 -0.281739 -1.790060\n2013-01-05 -0.609444  0.109938",
      "text/html": "<div>\n<style scoped>\n    .dataframe tbody tr th:only-of-type {\n        vertical-align: middle;\n    }\n\n    .dataframe tbody tr th {\n        vertical-align: top;\n    }\n\n    .dataframe thead th {\n        text-align: right;\n    }\n</style>\n<table border=\"1\" class=\"dataframe\">\n  <thead>\n    <tr style=\"text-align: right;\">\n      <th></th>\n      <th>A</th>\n      <th>B</th>\n    </tr>\n  </thead>\n  <tbody>\n    <tr>\n      <th>2013-01-04</th>\n      <td>-0.281739</td>\n      <td>-1.790060</td>\n    </tr>\n    <tr>\n      <th>2013-01-05</th>\n      <td>-0.609444</td>\n      <td>0.109938</td>\n    </tr>\n  </tbody>\n</table>\n</div>"
     },
     "execution_count": 27,
     "metadata": {},
     "output_type": "execute_result"
    }
   ],
   "source": [
    "df.iloc[3:5, 0:2]"
   ],
   "metadata": {
    "collapsed": false,
    "ExecuteTime": {
     "end_time": "2023-11-14T01:12:52.499839300Z",
     "start_time": "2023-11-14T01:12:52.440873500Z"
    }
   },
   "id": "b917211296099969"
  },
  {
   "cell_type": "code",
   "execution_count": 28,
   "outputs": [
    {
     "data": {
      "text/plain": "                   A         C\n2013-01-02  0.623547  0.608100\n2013-01-03  1.105134  1.494205\n2013-01-05 -0.609444  1.025279",
      "text/html": "<div>\n<style scoped>\n    .dataframe tbody tr th:only-of-type {\n        vertical-align: middle;\n    }\n\n    .dataframe tbody tr th {\n        vertical-align: top;\n    }\n\n    .dataframe thead th {\n        text-align: right;\n    }\n</style>\n<table border=\"1\" class=\"dataframe\">\n  <thead>\n    <tr style=\"text-align: right;\">\n      <th></th>\n      <th>A</th>\n      <th>C</th>\n    </tr>\n  </thead>\n  <tbody>\n    <tr>\n      <th>2013-01-02</th>\n      <td>0.623547</td>\n      <td>0.608100</td>\n    </tr>\n    <tr>\n      <th>2013-01-03</th>\n      <td>1.105134</td>\n      <td>1.494205</td>\n    </tr>\n    <tr>\n      <th>2013-01-05</th>\n      <td>-0.609444</td>\n      <td>1.025279</td>\n    </tr>\n  </tbody>\n</table>\n</div>"
     },
     "execution_count": 28,
     "metadata": {},
     "output_type": "execute_result"
    }
   ],
   "source": [
    "df.iloc[[1,2,4], [0,2]]"
   ],
   "metadata": {
    "collapsed": false,
    "ExecuteTime": {
     "end_time": "2023-11-14T01:13:23.026010900Z",
     "start_time": "2023-11-14T01:13:22.944057200Z"
    }
   },
   "id": "7fbfbd1f9c2cc586"
  },
  {
   "cell_type": "code",
   "execution_count": 29,
   "outputs": [
    {
     "data": {
      "text/plain": "                   A         B         C         D\n2013-01-02  0.623547 -1.396255  0.608100 -0.563222\n2013-01-03  1.105134  0.412881  1.494205 -0.026307",
      "text/html": "<div>\n<style scoped>\n    .dataframe tbody tr th:only-of-type {\n        vertical-align: middle;\n    }\n\n    .dataframe tbody tr th {\n        vertical-align: top;\n    }\n\n    .dataframe thead th {\n        text-align: right;\n    }\n</style>\n<table border=\"1\" class=\"dataframe\">\n  <thead>\n    <tr style=\"text-align: right;\">\n      <th></th>\n      <th>A</th>\n      <th>B</th>\n      <th>C</th>\n      <th>D</th>\n    </tr>\n  </thead>\n  <tbody>\n    <tr>\n      <th>2013-01-02</th>\n      <td>0.623547</td>\n      <td>-1.396255</td>\n      <td>0.608100</td>\n      <td>-0.563222</td>\n    </tr>\n    <tr>\n      <th>2013-01-03</th>\n      <td>1.105134</td>\n      <td>0.412881</td>\n      <td>1.494205</td>\n      <td>-0.026307</td>\n    </tr>\n  </tbody>\n</table>\n</div>"
     },
     "execution_count": 29,
     "metadata": {},
     "output_type": "execute_result"
    }
   ],
   "source": [
    "df.iloc[1:3, :]"
   ],
   "metadata": {
    "collapsed": false,
    "ExecuteTime": {
     "end_time": "2023-11-14T01:13:48.601194Z",
     "start_time": "2023-11-14T01:13:48.506249400Z"
    }
   },
   "id": "4355677a093cf9b6"
  },
  {
   "cell_type": "code",
   "execution_count": 30,
   "outputs": [
    {
     "data": {
      "text/plain": "                   B         C\n2013-01-01  0.878058 -0.452615\n2013-01-02 -1.396255  0.608100\n2013-01-03  0.412881  1.494205\n2013-01-04 -1.790060 -1.661966\n2013-01-05  0.109938  1.025279\n2013-01-06  0.275549 -0.437317",
      "text/html": "<div>\n<style scoped>\n    .dataframe tbody tr th:only-of-type {\n        vertical-align: middle;\n    }\n\n    .dataframe tbody tr th {\n        vertical-align: top;\n    }\n\n    .dataframe thead th {\n        text-align: right;\n    }\n</style>\n<table border=\"1\" class=\"dataframe\">\n  <thead>\n    <tr style=\"text-align: right;\">\n      <th></th>\n      <th>B</th>\n      <th>C</th>\n    </tr>\n  </thead>\n  <tbody>\n    <tr>\n      <th>2013-01-01</th>\n      <td>0.878058</td>\n      <td>-0.452615</td>\n    </tr>\n    <tr>\n      <th>2013-01-02</th>\n      <td>-1.396255</td>\n      <td>0.608100</td>\n    </tr>\n    <tr>\n      <th>2013-01-03</th>\n      <td>0.412881</td>\n      <td>1.494205</td>\n    </tr>\n    <tr>\n      <th>2013-01-04</th>\n      <td>-1.790060</td>\n      <td>-1.661966</td>\n    </tr>\n    <tr>\n      <th>2013-01-05</th>\n      <td>0.109938</td>\n      <td>1.025279</td>\n    </tr>\n    <tr>\n      <th>2013-01-06</th>\n      <td>0.275549</td>\n      <td>-0.437317</td>\n    </tr>\n  </tbody>\n</table>\n</div>"
     },
     "execution_count": 30,
     "metadata": {},
     "output_type": "execute_result"
    }
   ],
   "source": [
    "df.iloc[:, 1:3]"
   ],
   "metadata": {
    "collapsed": false,
    "ExecuteTime": {
     "end_time": "2023-11-14T01:13:59.101981600Z",
     "start_time": "2023-11-14T01:13:59.045014100Z"
    }
   },
   "id": "b320a75e97f0ae58"
  },
  {
   "cell_type": "code",
   "execution_count": 31,
   "outputs": [
    {
     "data": {
      "text/plain": "                   A         B         C         D\n2013-01-02  0.623547 -1.396255  0.608100 -0.563222\n2013-01-03  1.105134  0.412881  1.494205 -0.026307",
      "text/html": "<div>\n<style scoped>\n    .dataframe tbody tr th:only-of-type {\n        vertical-align: middle;\n    }\n\n    .dataframe tbody tr th {\n        vertical-align: top;\n    }\n\n    .dataframe thead th {\n        text-align: right;\n    }\n</style>\n<table border=\"1\" class=\"dataframe\">\n  <thead>\n    <tr style=\"text-align: right;\">\n      <th></th>\n      <th>A</th>\n      <th>B</th>\n      <th>C</th>\n      <th>D</th>\n    </tr>\n  </thead>\n  <tbody>\n    <tr>\n      <th>2013-01-02</th>\n      <td>0.623547</td>\n      <td>-1.396255</td>\n      <td>0.608100</td>\n      <td>-0.563222</td>\n    </tr>\n    <tr>\n      <th>2013-01-03</th>\n      <td>1.105134</td>\n      <td>0.412881</td>\n      <td>1.494205</td>\n      <td>-0.026307</td>\n    </tr>\n  </tbody>\n</table>\n</div>"
     },
     "execution_count": 31,
     "metadata": {},
     "output_type": "execute_result"
    }
   ],
   "source": [
    "df[df.A > 0]"
   ],
   "metadata": {
    "collapsed": false,
    "ExecuteTime": {
     "end_time": "2023-11-14T01:14:16.090035300Z",
     "start_time": "2023-11-14T01:14:16.008082500Z"
    }
   },
   "id": "4d88e2c24a946a72"
  },
  {
   "cell_type": "code",
   "execution_count": 32,
   "outputs": [
    {
     "data": {
      "text/plain": "                   A         B         C         D\n2013-01-01       NaN  0.878058       NaN       NaN\n2013-01-02  0.623547       NaN  0.608100       NaN\n2013-01-03  1.105134  0.412881  1.494205       NaN\n2013-01-04       NaN       NaN       NaN  0.960971\n2013-01-05       NaN  0.109938  1.025279  0.623548\n2013-01-06       NaN  0.275549       NaN  0.136996",
      "text/html": "<div>\n<style scoped>\n    .dataframe tbody tr th:only-of-type {\n        vertical-align: middle;\n    }\n\n    .dataframe tbody tr th {\n        vertical-align: top;\n    }\n\n    .dataframe thead th {\n        text-align: right;\n    }\n</style>\n<table border=\"1\" class=\"dataframe\">\n  <thead>\n    <tr style=\"text-align: right;\">\n      <th></th>\n      <th>A</th>\n      <th>B</th>\n      <th>C</th>\n      <th>D</th>\n    </tr>\n  </thead>\n  <tbody>\n    <tr>\n      <th>2013-01-01</th>\n      <td>NaN</td>\n      <td>0.878058</td>\n      <td>NaN</td>\n      <td>NaN</td>\n    </tr>\n    <tr>\n      <th>2013-01-02</th>\n      <td>0.623547</td>\n      <td>NaN</td>\n      <td>0.608100</td>\n      <td>NaN</td>\n    </tr>\n    <tr>\n      <th>2013-01-03</th>\n      <td>1.105134</td>\n      <td>0.412881</td>\n      <td>1.494205</td>\n      <td>NaN</td>\n    </tr>\n    <tr>\n      <th>2013-01-04</th>\n      <td>NaN</td>\n      <td>NaN</td>\n      <td>NaN</td>\n      <td>0.960971</td>\n    </tr>\n    <tr>\n      <th>2013-01-05</th>\n      <td>NaN</td>\n      <td>0.109938</td>\n      <td>1.025279</td>\n      <td>0.623548</td>\n    </tr>\n    <tr>\n      <th>2013-01-06</th>\n      <td>NaN</td>\n      <td>0.275549</td>\n      <td>NaN</td>\n      <td>0.136996</td>\n    </tr>\n  </tbody>\n</table>\n</div>"
     },
     "execution_count": 32,
     "metadata": {},
     "output_type": "execute_result"
    }
   ],
   "source": [
    "df[df > 0]"
   ],
   "metadata": {
    "collapsed": false,
    "ExecuteTime": {
     "end_time": "2023-11-14T01:16:17.839274600Z",
     "start_time": "2023-11-14T01:16:17.750325600Z"
    }
   },
   "id": "4f70049ee62e572a"
  },
  {
   "cell_type": "code",
   "execution_count": 33,
   "outputs": [],
   "source": [
    "df2 = df.copy()"
   ],
   "metadata": {
    "collapsed": false,
    "ExecuteTime": {
     "end_time": "2023-11-14T01:16:32.471275300Z",
     "start_time": "2023-11-14T01:16:32.412288100Z"
    }
   },
   "id": "803da8f0c45db334"
  },
  {
   "cell_type": "code",
   "execution_count": 35,
   "outputs": [
    {
     "name": "stdout",
     "output_type": "stream",
     "text": [
      "                   A         B         C         D      E\n",
      "2013-01-01 -0.525580  0.878058 -0.452615 -1.228146    one\n",
      "2013-01-02  0.623547 -1.396255  0.608100 -0.563222    one\n",
      "2013-01-03  1.105134  0.412881  1.494205 -0.026307    two\n",
      "2013-01-04 -0.281739 -1.790060 -1.661966  0.960971  three\n",
      "2013-01-05 -0.609444  0.109938  1.025279  0.623548   four\n",
      "2013-01-06 -0.958873  0.275549 -0.437317  0.136996  three\n"
     ]
    }
   ],
   "source": [
    "df2['E'] = ['one', 'one', 'two', 'three', 'four', 'three']\n",
    "print(df2)"
   ],
   "metadata": {
    "collapsed": false,
    "ExecuteTime": {
     "end_time": "2023-11-14T01:17:15.605173300Z",
     "start_time": "2023-11-14T01:17:15.518223300Z"
    }
   },
   "id": "926c547d811855b1"
  },
  {
   "cell_type": "code",
   "execution_count": 36,
   "outputs": [
    {
     "data": {
      "text/plain": "2013-01-01    False\n2013-01-02    False\n2013-01-03     True\n2013-01-04    False\n2013-01-05     True\n2013-01-06    False\nFreq: D, Name: E, dtype: bool"
     },
     "execution_count": 36,
     "metadata": {},
     "output_type": "execute_result"
    }
   ],
   "source": [
    "df2['E'].isin(['two', 'four'])"
   ],
   "metadata": {
    "collapsed": false,
    "ExecuteTime": {
     "end_time": "2023-11-14T01:17:41.644484300Z",
     "start_time": "2023-11-14T01:17:41.578523Z"
    }
   },
   "id": "b5358081f8da6c28"
  },
  {
   "cell_type": "code",
   "execution_count": 37,
   "outputs": [
    {
     "data": {
      "text/plain": "                   A         B         C         D     E\n2013-01-03  1.105134  0.412881  1.494205 -0.026307   two\n2013-01-05 -0.609444  0.109938  1.025279  0.623548  four",
      "text/html": "<div>\n<style scoped>\n    .dataframe tbody tr th:only-of-type {\n        vertical-align: middle;\n    }\n\n    .dataframe tbody tr th {\n        vertical-align: top;\n    }\n\n    .dataframe thead th {\n        text-align: right;\n    }\n</style>\n<table border=\"1\" class=\"dataframe\">\n  <thead>\n    <tr style=\"text-align: right;\">\n      <th></th>\n      <th>A</th>\n      <th>B</th>\n      <th>C</th>\n      <th>D</th>\n      <th>E</th>\n    </tr>\n  </thead>\n  <tbody>\n    <tr>\n      <th>2013-01-03</th>\n      <td>1.105134</td>\n      <td>0.412881</td>\n      <td>1.494205</td>\n      <td>-0.026307</td>\n      <td>two</td>\n    </tr>\n    <tr>\n      <th>2013-01-05</th>\n      <td>-0.609444</td>\n      <td>0.109938</td>\n      <td>1.025279</td>\n      <td>0.623548</td>\n      <td>four</td>\n    </tr>\n  </tbody>\n</table>\n</div>"
     },
     "execution_count": 37,
     "metadata": {},
     "output_type": "execute_result"
    }
   ],
   "source": [
    "df2[df2['E'].isin(['two', 'four'])]"
   ],
   "metadata": {
    "collapsed": false,
    "ExecuteTime": {
     "end_time": "2023-11-14T01:23:42.329091400Z",
     "start_time": "2023-11-14T01:23:42.200165500Z"
    }
   },
   "id": "5be8d0df94d0a5b2"
  },
  {
   "cell_type": "code",
   "execution_count": 38,
   "outputs": [
    {
     "data": {
      "text/plain": "                   A         B         C         D\n2013-01-01  0.227120  1.400673  0.297851 -0.800542\n2013-01-02 -0.918592  0.787653  0.900313 -0.191109\n2013-01-03  0.138173  0.894271  1.463731  0.315618\n2013-01-04 -3.119265  0.461342  0.471204  1.081672\n2013-01-05 -1.103889  0.156137  0.582952  1.270082\n2013-01-06 -0.112216  0.713576  1.415304 -0.903181",
      "text/html": "<div>\n<style scoped>\n    .dataframe tbody tr th:only-of-type {\n        vertical-align: middle;\n    }\n\n    .dataframe tbody tr th {\n        vertical-align: top;\n    }\n\n    .dataframe thead th {\n        text-align: right;\n    }\n</style>\n<table border=\"1\" class=\"dataframe\">\n  <thead>\n    <tr style=\"text-align: right;\">\n      <th></th>\n      <th>A</th>\n      <th>B</th>\n      <th>C</th>\n      <th>D</th>\n    </tr>\n  </thead>\n  <tbody>\n    <tr>\n      <th>2013-01-01</th>\n      <td>0.227120</td>\n      <td>1.400673</td>\n      <td>0.297851</td>\n      <td>-0.800542</td>\n    </tr>\n    <tr>\n      <th>2013-01-02</th>\n      <td>-0.918592</td>\n      <td>0.787653</td>\n      <td>0.900313</td>\n      <td>-0.191109</td>\n    </tr>\n    <tr>\n      <th>2013-01-03</th>\n      <td>0.138173</td>\n      <td>0.894271</td>\n      <td>1.463731</td>\n      <td>0.315618</td>\n    </tr>\n    <tr>\n      <th>2013-01-04</th>\n      <td>-3.119265</td>\n      <td>0.461342</td>\n      <td>0.471204</td>\n      <td>1.081672</td>\n    </tr>\n    <tr>\n      <th>2013-01-05</th>\n      <td>-1.103889</td>\n      <td>0.156137</td>\n      <td>0.582952</td>\n      <td>1.270082</td>\n    </tr>\n    <tr>\n      <th>2013-01-06</th>\n      <td>-0.112216</td>\n      <td>0.713576</td>\n      <td>1.415304</td>\n      <td>-0.903181</td>\n    </tr>\n  </tbody>\n</table>\n</div>"
     },
     "execution_count": 38,
     "metadata": {},
     "output_type": "execute_result"
    }
   ],
   "source": [
    "df = pd.DataFrame(np.random.randn(6,4), index=dates, columns=['A', 'B', 'C', 'D'])\n",
    "df"
   ],
   "metadata": {
    "collapsed": false,
    "ExecuteTime": {
     "end_time": "2023-11-14T01:24:33.952711Z",
     "start_time": "2023-11-14T01:24:33.832779100Z"
    }
   },
   "id": "9bf77ea6ce29d895"
  },
  {
   "cell_type": "code",
   "execution_count": 40,
   "outputs": [
    {
     "data": {
      "text/plain": "                   A         B         C         D\n2013-01-01  0.227120  1.400673  0.297851 -0.800542\n2013-01-02 -0.691472  2.188326  1.198164 -0.991651\n2013-01-03 -0.553300  3.082597  2.661895 -0.676033\n2013-01-04 -3.672565  3.543939  3.133099  0.405639\n2013-01-05 -4.776454  3.700075  3.716051  1.675721\n2013-01-06 -4.888670  4.413651  5.131355  0.772539",
      "text/html": "<div>\n<style scoped>\n    .dataframe tbody tr th:only-of-type {\n        vertical-align: middle;\n    }\n\n    .dataframe tbody tr th {\n        vertical-align: top;\n    }\n\n    .dataframe thead th {\n        text-align: right;\n    }\n</style>\n<table border=\"1\" class=\"dataframe\">\n  <thead>\n    <tr style=\"text-align: right;\">\n      <th></th>\n      <th>A</th>\n      <th>B</th>\n      <th>C</th>\n      <th>D</th>\n    </tr>\n  </thead>\n  <tbody>\n    <tr>\n      <th>2013-01-01</th>\n      <td>0.227120</td>\n      <td>1.400673</td>\n      <td>0.297851</td>\n      <td>-0.800542</td>\n    </tr>\n    <tr>\n      <th>2013-01-02</th>\n      <td>-0.691472</td>\n      <td>2.188326</td>\n      <td>1.198164</td>\n      <td>-0.991651</td>\n    </tr>\n    <tr>\n      <th>2013-01-03</th>\n      <td>-0.553300</td>\n      <td>3.082597</td>\n      <td>2.661895</td>\n      <td>-0.676033</td>\n    </tr>\n    <tr>\n      <th>2013-01-04</th>\n      <td>-3.672565</td>\n      <td>3.543939</td>\n      <td>3.133099</td>\n      <td>0.405639</td>\n    </tr>\n    <tr>\n      <th>2013-01-05</th>\n      <td>-4.776454</td>\n      <td>3.700075</td>\n      <td>3.716051</td>\n      <td>1.675721</td>\n    </tr>\n    <tr>\n      <th>2013-01-06</th>\n      <td>-4.888670</td>\n      <td>4.413651</td>\n      <td>5.131355</td>\n      <td>0.772539</td>\n    </tr>\n  </tbody>\n</table>\n</div>"
     },
     "execution_count": 40,
     "metadata": {},
     "output_type": "execute_result"
    }
   ],
   "source": [
    "df.apply(np.cumsum)"
   ],
   "metadata": {
    "collapsed": false,
    "ExecuteTime": {
     "end_time": "2023-11-14T01:24:48.997677900Z",
     "start_time": "2023-11-14T01:24:48.925731100Z"
    }
   },
   "id": "46d080b60d132199"
  },
  {
   "cell_type": "code",
   "execution_count": 41,
   "outputs": [
    {
     "data": {
      "text/plain": "A    3.346386\nB    1.244536\nC    1.165880\nD    2.173263\ndtype: float64"
     },
     "execution_count": 41,
     "metadata": {},
     "output_type": "execute_result"
    }
   ],
   "source": [
    "df.apply(lambda x:x.max()-x.min())"
   ],
   "metadata": {
    "collapsed": false,
    "ExecuteTime": {
     "end_time": "2023-11-14T01:26:17.254165700Z",
     "start_time": "2023-11-14T01:26:17.193199700Z"
    }
   },
   "id": "da7de585512968d6"
  },
  {
   "cell_type": "code",
   "execution_count": null,
   "outputs": [],
   "source": [],
   "metadata": {
    "collapsed": false
   },
   "id": "f8478ad2c85f88a2"
  }
 ],
 "metadata": {
  "kernelspec": {
   "display_name": "Python 3",
   "language": "python",
   "name": "python3"
  },
  "language_info": {
   "codemirror_mode": {
    "name": "ipython",
    "version": 2
   },
   "file_extension": ".py",
   "mimetype": "text/x-python",
   "name": "python",
   "nbconvert_exporter": "python",
   "pygments_lexer": "ipython2",
   "version": "2.7.6"
  }
 },
 "nbformat": 4,
 "nbformat_minor": 5
}
>>>>>>> origin/master
